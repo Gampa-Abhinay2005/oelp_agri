{
 "cells": [
  {
   "cell_type": "code",
   "execution_count": 3,
   "id": "d15ad624",
   "metadata": {},
   "outputs": [],
   "source": [
    "import pandas as pd\n",
    "import numpy as np\n",
    "import matplotlib as mpl\n",
    "import matplotlib.pyplot as mplpl\n",
    "import seaborn as sb"
   ]
  },
  {
   "cell_type": "markdown",
   "id": "bb86b5ef",
   "metadata": {},
   "source": [
    "### `Data Preprocessing`"
   ]
  },
  {
   "cell_type": "code",
   "execution_count": 4,
   "id": "8460d3d5",
   "metadata": {},
   "outputs": [
    {
     "data": {
      "text/html": [
       "<div>\n",
       "<style scoped>\n",
       "    .dataframe tbody tr th:only-of-type {\n",
       "        vertical-align: middle;\n",
       "    }\n",
       "\n",
       "    .dataframe tbody tr th {\n",
       "        vertical-align: top;\n",
       "    }\n",
       "\n",
       "    .dataframe thead th {\n",
       "        text-align: right;\n",
       "    }\n",
       "</style>\n",
       "<table border=\"1\" class=\"dataframe\">\n",
       "  <thead>\n",
       "    <tr style=\"text-align: right;\">\n",
       "      <th></th>\n",
       "      <th>State</th>\n",
       "      <th>District</th>\n",
       "      <th>Crop</th>\n",
       "      <th>Year</th>\n",
       "      <th>Season</th>\n",
       "      <th>Area</th>\n",
       "      <th>Area Units</th>\n",
       "      <th>Production</th>\n",
       "      <th>Production Units</th>\n",
       "      <th>Yield</th>\n",
       "    </tr>\n",
       "  </thead>\n",
       "  <tbody>\n",
       "    <tr>\n",
       "      <th>0</th>\n",
       "      <td>Andaman and Nicobar Islands</td>\n",
       "      <td>NICOBARS</td>\n",
       "      <td>Arecanut</td>\n",
       "      <td>2001-02</td>\n",
       "      <td>Kharif</td>\n",
       "      <td>1254.0</td>\n",
       "      <td>Hectare</td>\n",
       "      <td>2061.0</td>\n",
       "      <td>Tonnes</td>\n",
       "      <td>1.643541</td>\n",
       "    </tr>\n",
       "    <tr>\n",
       "      <th>1</th>\n",
       "      <td>Andaman and Nicobar Islands</td>\n",
       "      <td>NICOBARS</td>\n",
       "      <td>Arecanut</td>\n",
       "      <td>2002-03</td>\n",
       "      <td>Whole Year</td>\n",
       "      <td>1258.0</td>\n",
       "      <td>Hectare</td>\n",
       "      <td>2083.0</td>\n",
       "      <td>Tonnes</td>\n",
       "      <td>1.655803</td>\n",
       "    </tr>\n",
       "    <tr>\n",
       "      <th>2</th>\n",
       "      <td>Andaman and Nicobar Islands</td>\n",
       "      <td>NICOBARS</td>\n",
       "      <td>Arecanut</td>\n",
       "      <td>2003-04</td>\n",
       "      <td>Whole Year</td>\n",
       "      <td>1261.0</td>\n",
       "      <td>Hectare</td>\n",
       "      <td>1525.0</td>\n",
       "      <td>Tonnes</td>\n",
       "      <td>1.209358</td>\n",
       "    </tr>\n",
       "    <tr>\n",
       "      <th>3</th>\n",
       "      <td>Andaman and Nicobar Islands</td>\n",
       "      <td>NORTH AND MIDDLE ANDAMAN</td>\n",
       "      <td>Arecanut</td>\n",
       "      <td>2001-02</td>\n",
       "      <td>Kharif</td>\n",
       "      <td>3100.0</td>\n",
       "      <td>Hectare</td>\n",
       "      <td>5239.0</td>\n",
       "      <td>Tonnes</td>\n",
       "      <td>1.690000</td>\n",
       "    </tr>\n",
       "    <tr>\n",
       "      <th>4</th>\n",
       "      <td>Andaman and Nicobar Islands</td>\n",
       "      <td>SOUTH ANDAMANS</td>\n",
       "      <td>Arecanut</td>\n",
       "      <td>2002-03</td>\n",
       "      <td>Whole Year</td>\n",
       "      <td>3105.0</td>\n",
       "      <td>Hectare</td>\n",
       "      <td>5267.0</td>\n",
       "      <td>Tonnes</td>\n",
       "      <td>1.696296</td>\n",
       "    </tr>\n",
       "  </tbody>\n",
       "</table>\n",
       "</div>"
      ],
      "text/plain": [
       "                         State                  District      Crop     Year  \\\n",
       "0  Andaman and Nicobar Islands                  NICOBARS  Arecanut  2001-02   \n",
       "1  Andaman and Nicobar Islands                  NICOBARS  Arecanut  2002-03   \n",
       "2  Andaman and Nicobar Islands                  NICOBARS  Arecanut  2003-04   \n",
       "3  Andaman and Nicobar Islands  NORTH AND MIDDLE ANDAMAN  Arecanut  2001-02   \n",
       "4  Andaman and Nicobar Islands            SOUTH ANDAMANS  Arecanut  2002-03   \n",
       "\n",
       "       Season    Area Area Units  Production Production Units     Yield  \n",
       "0      Kharif  1254.0    Hectare      2061.0           Tonnes  1.643541  \n",
       "1  Whole Year  1258.0    Hectare      2083.0           Tonnes  1.655803  \n",
       "2  Whole Year  1261.0    Hectare      1525.0           Tonnes  1.209358  \n",
       "3      Kharif  3100.0    Hectare      5239.0           Tonnes  1.690000  \n",
       "4  Whole Year  3105.0    Hectare      5267.0           Tonnes  1.696296  "
      ]
     },
     "execution_count": 4,
     "metadata": {},
     "output_type": "execute_result"
    }
   ],
   "source": [
    "df = pd.read_csv(\"India Agriculture Crop Production.csv\")\n",
    "df.head(5)"
   ]
  },
  {
   "cell_type": "code",
   "execution_count": 5,
   "id": "df0d3b03",
   "metadata": {},
   "outputs": [
    {
     "name": "stdout",
     "output_type": "stream",
     "text": [
      "<class 'pandas.core.frame.DataFrame'>\n",
      "RangeIndex: 345407 entries, 0 to 345406\n",
      "Data columns (total 10 columns):\n",
      " #   Column            Non-Null Count   Dtype  \n",
      "---  ------            --------------   -----  \n",
      " 0   State             345407 non-null  object \n",
      " 1   District          345407 non-null  object \n",
      " 2   Crop              345375 non-null  object \n",
      " 3   Year              345407 non-null  object \n",
      " 4   Season            345406 non-null  object \n",
      " 5   Area              345374 non-null  float64\n",
      " 6   Area Units        345407 non-null  object \n",
      " 7   Production        340414 non-null  float64\n",
      " 8   Production Units  345407 non-null  object \n",
      " 9   Yield             345374 non-null  float64\n",
      "dtypes: float64(3), object(7)\n",
      "memory usage: 26.4+ MB\n"
     ]
    }
   ],
   "source": [
    "df.info()"
   ]
  },
  {
   "cell_type": "code",
   "execution_count": 6,
   "id": "49738f4f",
   "metadata": {},
   "outputs": [
    {
     "name": "stdout",
     "output_type": "stream",
     "text": [
      "Year\n",
      "2019-20    19296\n",
      "2018-19    18302\n",
      "2017-18    18008\n",
      "2016-17    17418\n",
      "2015-16    16339\n",
      "2013-14    16178\n",
      "2011-12    16132\n",
      "2014-15    15587\n",
      "2009-10    15341\n",
      "2012-13    15279\n",
      "2008-09    15150\n",
      "2010-11    14889\n",
      "2007-08    14681\n",
      "2006-07    14678\n",
      "2003-04    14662\n",
      "2002-03    14182\n",
      "2004-05    14151\n",
      "2005-06    14063\n",
      "2000-01    13593\n",
      "2001-02    13307\n",
      "1999-00    13013\n",
      "1998-99    12290\n",
      "1997-98     8549\n",
      "2020-21      319\n",
      "Name: count, dtype: int64\n"
     ]
    }
   ],
   "source": [
    "print(df['Year'].value_counts())"
   ]
  },
  {
   "cell_type": "code",
   "execution_count": 7,
   "id": "dfa20e78",
   "metadata": {},
   "outputs": [],
   "source": [
    "df['Year'] = df['Year'].str[:4].astype(int)\n"
   ]
  },
  {
   "cell_type": "code",
   "execution_count": 12,
   "id": "b168c6b5",
   "metadata": {},
   "outputs": [
    {
     "name": "stdout",
     "output_type": "stream",
     "text": [
      "{'Andaman and Nicobar Islands': ['NICOBARS', 'NORTH AND MIDDLE ANDAMAN', 'SOUTH ANDAMANS', 'Andaman and Nicobar Islands'], 'Andhra Pradesh': ['ANANTAPUR', 'EAST GODAVARI', 'KRISHNA', 'VIZIANAGARAM', 'WEST GODAVARI', 'ADILABAD', 'CHITTOOR', 'GUNTUR', 'KADAPA', 'KARIMNAGAR', 'KHAMMAM', 'KURNOOL', 'MAHBUBNAGAR', 'MEDAK', 'NALGONDA', 'NIZAMABAD', 'PRAKASAM', 'RANGAREDDI', 'SPSR NELLORE', 'SRIKAKULAM', 'VISAKHAPATANAM', 'WARANGAL', 'HYDERABAD'], 'Arunachal Pradesh': ['CHANGLANG', 'DIBANG VALLEY', 'EAST KAMENG', 'EAST SIANG', 'KURUNG KUMEY', 'LOHIT', 'LOWER DIBANG VALLEY', 'LOWER SUBANSIRI', 'PAPUM PARE', 'TAWANG', 'TIRAP', 'UPPER SIANG', 'UPPER SUBANSIRI', 'WEST KAMENG', 'WEST SIANG', 'ANJAW', 'KRA DAADI', 'LONGDING', 'NAMSAI', 'SIANG', 'KAMLE', 'LOWER SIANG', 'LEPARADA', 'PAKKE KESSANG', 'SHI YOMI'], 'Assam': ['BARPETA', 'BONGAIGAON', 'CACHAR', 'DARRANG', 'DHEMAJI', 'DHUBRI', 'DIBRUGARH', 'DIMA HASAO', 'GOALPARA', 'GOLAGHAT', 'HAILAKANDI', 'JORHAT', 'KAMRUP', 'KARBI ANGLONG', 'KARIMGANJ', 'KOKRAJHAR', 'LAKHIMPUR', 'MARIGAON', 'NAGAON', 'NALBARI', 'SIVASAGAR', 'SONITPUR', 'TINSUKIA', 'BAKSA', 'CHIRANG', 'KAMRUP METRO', 'UDALGURI', 'BISWANATH', 'CHARAIDEO', 'HOJAI', 'MAJULI', 'SOUTH SALMARA MANCACHAR', 'WEST KARBI ANGLONG'], 'Bihar': ['ARARIA', 'ARWAL', 'AURANGABAD', 'BANKA', 'BEGUSARAI', 'BHAGALPUR', 'BHOJPUR', 'BUXAR', 'DARBHANGA', 'GAYA', 'GOPALGANJ', 'JAMUI', 'JEHANABAD', 'KAIMUR (BHABUA)', 'KATIHAR', 'KHAGARIA', 'KISHANGANJ', 'LAKHISARAI', 'MADHEPURA', 'MADHUBANI', 'MUNGER', 'MUZAFFARPUR', 'NALANDA', 'NAWADA', 'PASHCHIM CHAMPARAN', 'PATNA', 'PURBI CHAMPARAN', 'PURNIA', 'ROHTAS', 'SAHARSA', 'SAMASTIPUR', 'SARAN', 'SHEIKHPURA', 'SHEOHAR', 'SITAMARHI', 'SIWAN', 'SUPAUL', 'VAISHALI', 'BOKARO', 'CHATRA', 'DEOGHAR', 'DHANBAD', 'DUMKA', 'EAST SINGHBUM', 'GARHWA', 'GIRIDIH', 'GODDA', 'GUMLA', 'HAZARIBAGH', 'KODERMA', 'LOHARDAGA', 'PAKUR', 'PALAMU', 'RANCHI', 'SAHEBGANJ', 'WEST SINGHBHUM'], 'Chandigarh': ['CHANDIGARH'], 'Chhattisgarh': ['BASTAR', 'BILASPUR', 'DANTEWADA', 'DHAMTARI', 'DURG', 'JANJGIR-CHAMPA', 'JASHPUR', 'KABIRDHAM', 'KANKER', 'KORBA', 'KOREA', 'MAHASAMUND', 'RAIGARH', 'RAIPUR', 'RAJNANDGAON', 'SURGUJA', 'BIJAPUR', 'NARAYANPUR', 'BALOD', 'BALODA BAZAR', 'BALRAMPUR', 'BEMETARA', 'GARIYABAND', 'KONDAGAON', 'MUNGELI', 'SUKMA', 'SURAJPUR', 'GAURELLA-PENDRA-MARWAHI'], 'Dadra and Nagar Haveli': ['DADRA AND NAGAR HAVELI'], 'Daman and Diu': ['Daman and Diu', 'DIU', 'DAMAN'], 'Delhi': ['Delhi', 'DELHI_TOTAL'], 'Goa': ['Goa', 'NORTH GOA', 'SOUTH GOA'], 'Gujarat': ['AHMADABAD', 'AMRELI', 'ANAND', 'BANAS KANTHA', 'BHARUCH', 'BHAVNAGAR', 'DANG', 'DOHAD', 'GANDHINAGAR', 'JAMNAGAR', 'JUNAGADH', 'KACHCHH', 'KHEDA', 'MAHESANA', 'NARMADA', 'NAVSARI', 'PANCH MAHALS', 'PATAN', 'PORBANDAR', 'RAJKOT', 'SABAR KANTHA', 'SURAT', 'SURENDRANAGAR', 'VADODARA', 'VALSAD', 'TAPI', 'ARAVALLI', 'BOTAD', 'CHHOTAUDEPUR', 'GIR SOMNATH', 'MAHISAGAR', 'DEVBHUMI DWARKA', 'MORBI'], 'Haryana': ['AMBALA', 'BHIWANI', 'FARIDABAD', 'FATEHABAD', 'GURGAON', 'HISAR', 'JHAJJAR', 'JIND', 'KAITHAL', 'KARNAL', 'KURUKSHETRA', 'MAHENDRAGARH', 'PANCHKULA', 'PANIPAT', 'REWARI', 'ROHTAK', 'SIRSA', 'SONIPAT', 'YAMUNANAGAR', 'MEWAT', 'PALWAL', 'CHARKI DADRI'], 'Himachal Pradesh': ['BILASPUR', 'KANGRA', 'KULLU', 'MANDI', 'SHIMLA', 'SOLAN', 'UNA', 'CHAMBA', 'HAMIRPUR', 'SIRMAUR', 'KINNAUR', 'LAHUL AND SPITI'], 'Jammu and Kashmir': ['DODA', 'JAMMU', 'KATHUA', 'RAJAURI', 'UDHAMPUR', 'KARGIL', 'LEH LADAKH', 'SRINAGAR', 'BADGAM', 'BARAMULLA', 'POONCH', 'PULWAMA', 'ANANTNAG', 'KUPWARA', 'REASI', 'SAMBA', 'KISHTWAR', 'RAMBAN', 'KULGAM', 'BANDIPORA', 'GANDERBAL', 'SHOPIAN'], 'Jharkhand': ['CHATRA', 'DUMKA', 'GARHWA', 'GODDA', 'GUMLA', 'HAZARIBAGH', 'KODERMA', 'LATEHAR', 'LOHARDAGA', 'PAKUR', 'PALAMU', 'RANCHI', 'SAHEBGANJ', 'SARAIKELA KHARSAWAN', 'SIMDEGA', 'WEST SINGHBHUM', 'BOKARO', 'DEOGHAR', 'DHANBAD', 'EAST SINGHBUM', 'GIRIDIH', 'JAMTARA', 'KHUNTI', 'RAMGARH'], 'Karnataka': ['BAGALKOT', 'BANGALORE RURAL', 'BELGAUM', 'BELLARY', 'BENGALURU URBAN', 'CHAMARAJANAGAR', 'CHIKMAGALUR', 'CHITRADURGA', 'DAKSHIN KANNAD', 'DAVANGERE', 'DHARWAD', 'GADAG', 'HASSAN', 'HAVERI', 'KODAGU', 'KOLAR', 'MANDYA', 'MYSORE', 'SHIMOGA', 'TUMKUR', 'UDUPI', 'UTTAR KANNAD', 'BIDAR', 'BIJAPUR', 'GULBARGA', 'KOPPAL', 'RAICHUR', 'RAMANAGARA', 'CHIKBALLAPUR', 'YADGIR', 'BAGALKOTE', 'BALLARI', 'BELAGAVI', 'CHAMARAJANAGARA', 'CHIKKABALLAPURA', 'CHIKKAMAGALURU', 'DAKSHINA KANNADA', 'MYSURU', 'SHIVAMOGGA', 'TUMAKURU', 'UTTARA KANNADA', 'VIJAYAPURA', 'KALABURAGI', 'YADAGIRI'], 'Kerala': ['ALAPPUZHA', 'ERNAKULAM', 'IDUKKI', 'KANNUR', 'KASARAGOD', 'KOLLAM', 'KOTTAYAM', 'KOZHIKODE', 'MALAPPURAM', 'PALAKKAD', 'PATHANAMTHITTA', 'THIRUVANANTHAPURAM', 'THRISSUR', 'WAYANAD'], 'Laddakh': ['KARGIL'], 'Madhya Pradesh': ['ANUPPUR', 'ASHOKNAGAR', 'BALAGHAT', 'BARWANI', 'BETUL', 'BHIND', 'BHOPAL', 'BURHANPUR', 'CHHATARPUR', 'CHHINDWARA', 'DAMOH', 'DATIA', 'DEWAS', 'DHAR', 'DINDORI', 'GUNA', 'GWALIOR', 'HARDA', 'HOSHANGABAD', 'INDORE', 'JABALPUR', 'JHABUA', 'KATNI', 'KHANDWA', 'KHARGONE', 'MANDLA', 'MANDSAUR', 'MORENA', 'NARSINGHPUR', 'NEEMUCH', 'PANNA', 'RAISEN', 'RAJGARH', 'RATLAM', 'REWA', 'SAGAR', 'SATNA', 'SEHORE', 'SEONI', 'SHAHDOL', 'SHAJAPUR', 'SHEOPUR', 'SHIVPURI', 'SIDHI', 'TIKAMGARH', 'UJJAIN', 'UMARIA', 'VIDISHA', 'ALIRAJPUR', 'SINGRAULI', 'AGAR MALWA', 'NIWARI', 'BASTAR', 'BILASPUR', 'DANTEWADA', 'DHAMTARI', 'DURG', 'JANJGIR-CHAMPA', 'JASHPUR', 'KABIRDHAM', 'KANKER', 'KORBA', 'KOREA', 'MAHASAMUND', 'RAIPUR', 'RAJNANDGAON', 'SURGUJA'], 'Maharashtra': ['AHMEDNAGAR', 'AKOLA', 'AMRAVATI', 'AURANGABAD', 'BEED', 'BHANDARA', 'BULDHANA', 'CHANDRAPUR', 'DHULE', 'GADCHIROLI', 'GONDIA', 'HINGOLI', 'JALGAON', 'JALNA', 'KOLHAPUR', 'LATUR', 'NAGPUR', 'NANDED', 'NANDURBAR', 'NASHIK', 'OSMANABAD', 'PARBHANI', 'PUNE', 'RAIGAD', 'RATNAGIRI', 'SANGLI', 'SATARA', 'SOLAPUR', 'THANE', 'WARDHA', 'WASHIM', 'YAVATMAL', 'SINDHUDURG', 'PALGHAR', 'MUMBAI SUBURBAN', 'MUMBAI'], 'Manipur': ['SENAPATI', 'BISHNUPUR', 'CHANDEL', 'CHURACHANDPUR', 'IMPHAL EAST', 'IMPHAL WEST', 'TAMENGLONG', 'THOUBAL', 'UKHRUL'], 'Meghalaya': ['EAST GARO HILLS', 'EAST JAINTIA HILLS', 'EAST KHASI HILLS', 'RI BHOI', 'SOUTH GARO HILLS', 'WEST GARO HILLS', 'WEST KHASI HILLS', 'NORTH GARO HILLS', 'SOUTH WEST GARO HILLS', 'SOUTH WEST KHASI HILLS', 'WEST JAINTIA HILLS'], 'Mizoram': ['AIZAWL', 'CHAMPHAI', 'KOLASIB', 'LUNGLEI', 'MAMIT', 'SAIHA', 'LAWNGTLAI', 'SERCHHIP'], 'Nagaland': ['DIMAPUR', 'KOHIMA', 'MOKOKCHUNG', 'MON', 'PHEK', 'TUENSANG', 'WOKHA', 'ZUNHEBOTO', 'KIPHIRE', 'LONGLENG', 'PEREN'], 'Odisha': ['ANUGUL', 'BALANGIR', 'BALESHWAR', 'BARGARH', 'BHADRAK', 'BOUDH', 'CUTTACK', 'DEOGARH', 'DHENKANAL', 'GAJAPATI', 'GANJAM', 'JAGATSINGHAPUR', 'JAJAPUR', 'JHARSUGUDA', 'KALAHANDI', 'KANDHAMAL', 'KENDRAPARA', 'KENDUJHAR', 'KHORDHA', 'KORAPUT', 'MALKANGIRI', 'MAYURBHANJ', 'NABARANGPUR', 'NAYAGARH', 'NUAPADA', 'RAYAGADA', 'SAMBALPUR', 'SONEPUR', 'SUNDARGARH', 'PURI'], 'Puducherry': ['MAHE', 'PONDICHERRY', 'KARAIKAL', 'YANAM'], 'Punjab': ['AMRITSAR', 'BATHINDA', 'FARIDKOT', 'FATEHGARH SAHIB', 'FIROZEPUR', 'HOSHIARPUR', 'JALANDHAR', 'KAPURTHALA', 'LUDHIANA', 'MOGA', 'MUKTSAR', 'NAWANSHAHR', 'PATIALA', 'RUPNAGAR', 'SANGRUR', 'MANSA', 'GURDASPUR', 'S', 'TARN TARAN', 'BARNALA', 'FAZILKA', 'PATHANKOT', 'SHAHID BHAGAT SINGH NAGAR'], 'Rajasthan': ['AJMER', 'ALWAR', 'BANSWARA', 'BARAN', 'BHARATPUR', 'BHILWARA', 'BIKANER', 'BUNDI', 'CHITTORGARH', 'DAUSA', 'DHOLPUR', 'DUNGARPUR', 'GANGANAGAR', 'HANUMANGARH', 'JAIPUR', 'JAISALMER', 'JALORE', 'JHALAWAR', 'KARAULI', 'KOTA', 'NAGAUR', 'PALI', 'RAJSAMAND', 'SAWAI MADHOPUR', 'SIKAR', 'SIROHI', 'TONK', 'UDAIPUR', 'BARMER', 'CHURU', 'JHUNJHUNU', 'JODHPUR', 'PRATAPGARH'], 'Sikkim': ['EAST DISTRICT', 'NORTH DISTRICT', 'SOUTH DISTRICT', 'WEST DISTRICT'], 'Tamil Nadu': ['COIMBATORE', 'DHARMAPURI', 'DINDIGUL', 'ERODE', 'KANNIYAKUMARI', 'KARUR', 'KRISHNAGIRI', 'NAGAPATTINAM', 'NAMAKKAL', 'PERAMBALUR', 'SALEM', 'THANJAVUR', 'THE NILGIRIS', 'THENI', 'THIRUVARUR', 'TIRUCHIRAPPALLI', 'TIRUNELVELI', 'VIRUDHUNAGAR', 'CUDDALORE', 'KANCHIPURAM', 'MADURAI', 'PUDUKKOTTAI', 'RAMANATHAPURAM', 'SIVAGANGA', 'THIRUVALLUR', 'THOOTHUKUDI', 'TIRUVANNAMALAI', 'VELLORE', 'VILLUPURAM', 'TIRUPPUR', 'ARIYALUR', 'CHENNAI', 'TUTICORIN', 'KALLAKURICHI', 'TENKASI', 'TIRUPATHUR', 'CHENGALPATTU', 'RANIPET'], 'Telangana': ['ADILABAD', 'KARIMNAGAR', 'KHAMMAM', 'MAHBUBNAGAR', 'MEDAK', 'NALGONDA', 'NIZAMABAD', 'RANGAREDDI', 'WARANGAL', 'BHADRADRI', 'JAGITIAL', 'JANGOAN', 'JAYASHANKAR', 'JOGULAMBA', 'KAMAREDDY', 'KOMARAM BHEEM ASIFABAD', 'MAHABUBABAD', 'MANCHERIAL', 'MEDCHAL', 'MULUGU', 'NAGARKURNOOL', 'NARAYANAPET', 'NIRMAL', 'PEDDAPALLI', 'RAJANNA', 'SANGAREDDY', 'SIDDIPET', 'SURYAPET', 'VIKARABAD', 'WANAPARTHY', 'WARANGAL URBAN', 'YADADRI', 'HANUMAKONDA', 'MEDCHAL MALKAJGIRI', 'THE DADRA AND NAGAR HAVELI AND DAMAN AND DIU', 'DADRA AND NAGAR HAVELI', 'DIU', 'DAMAN'], 'Tripura': ['DHALAI', 'NORTH TRIPURA', 'SOUTH TRIPURA', 'WEST TRIPURA', 'GOMATI', 'KHOWAI', 'SEPAHIJALA', 'UNAKOTI'], 'Uttar Pradesh': ['AGRA', 'ALIGARH', 'ALLAHABAD', 'AMBEDKAR NAGAR', 'AMROHA', 'AURAIYA', 'AZAMGARH', 'BAGHPAT', 'BAHRAICH', 'BALLIA', 'BALRAMPUR', 'BANDA', 'BARABANKI', 'BAREILLY', 'BASTI', 'BIJNOR', 'BUDAUN', 'BULANDSHAHR', 'CHANDAULI', 'CHITRAKOOT', 'DEORIA', 'ETAH', 'ETAWAH', 'FAIZABAD', 'FARRUKHABAD', 'FATEHPUR', 'FIROZABAD', 'GAUTAM BUDDHA NAGAR', 'GHAZIABAD', 'GHAZIPUR', 'GONDA', 'GORAKHPUR', 'HAMIRPUR', 'HARDOI', 'HATHRAS', 'JALAUN', 'JAUNPUR', 'JHANSI', 'KANNAUJ', 'KANPUR DEHAT', 'KANPUR NAGAR', 'KAUSHAMBI', 'KHERI', 'KUSHI NAGAR', 'LALITPUR', 'LUCKNOW', 'MAHARAJGANJ', 'MAHOBA', 'MAINPURI', 'MATHURA', 'MAU', 'MEERUT', 'MIRZAPUR', 'MORADABAD', 'MUZAFFARNAGAR', 'PILIBHIT', 'PRATAPGARH', 'RAE BARELI', 'RAMPUR', 'SAHARANPUR', 'SANT KABEER NAGAR', 'SANT RAVIDAS NAGAR', 'SHAHJAHANPUR', 'SHRAVASTI', 'SIDDHARTH NAGAR', 'SITAPUR', 'SONBHADRA', 'SULTANPUR', 'UNNAO', 'VARANASI', 'KASGANJ', 'AMETHI', 'HAPUR', 'SAMBHAL', 'SHAMLI', 'ALMORA', 'CHAMOLI', 'DEHRADUN', 'HARIDWAR', 'NAINITAL', 'PAURI GARHWAL', 'PITHORAGARH', 'TEHRI GARHWAL', 'UDAM SINGH NAGAR', 'UTTAR KASHI', 'BAGESHWAR', 'CHAMPAWAT', 'RUDRA PRAYAG'], 'Uttarakhand': ['CHAMOLI', 'CHAMPAWAT', 'DEHRADUN', 'HARIDWAR', 'NAINITAL', 'PAURI GARHWAL', 'PITHORAGARH', 'RUDRA PRAYAG', 'TEHRI GARHWAL', 'UDAM SINGH NAGAR', 'UTTAR KASHI', 'ALMORA', 'BAGESHWAR'], 'West Bengal': ['24 PARAGANAS NORTH', '24 PARAGANAS SOUTH', 'BANKURA', 'BIRBHUM', 'COOCHBEHAR', 'DARJEELING', 'DINAJPUR DAKSHIN', 'DINAJPUR UTTAR', 'HOOGHLY', 'HOWRAH', 'JALPAIGURI', 'MALDAH', 'MEDINIPUR EAST', 'MEDINIPUR WEST', 'MURSHIDABAD', 'NADIA', 'PURBA BARDHAMAN', 'PURULIA', 'ALIPURDUAR', 'JHARGRAM', 'PASCHIM BARDHAMAN', 'KALIMPONG']}\n"
     ]
    }
   ],
   "source": [
    "districts_by_state_dict = df.groupby('State')['District'].unique().apply(list).to_dict()\n",
    "print(districts_by_state_dict)"
   ]
  },
  {
   "cell_type": "code",
   "execution_count": 7,
   "id": "46ffe126",
   "metadata": {},
   "outputs": [
    {
     "data": {
      "text/plain": [
       "array([2001, 2002, 2003, 2004, 2005, 2006, 2007, 2008, 2009, 2010, 2011,\n",
       "       2012, 2013, 2014, 2015, 2016, 2017, 2018, 2019, 2020, 2000, 1997,\n",
       "       1998, 1999])"
      ]
     },
     "execution_count": 7,
     "metadata": {},
     "output_type": "execute_result"
    }
   ],
   "source": [
    "df['Year'].unique()"
   ]
  },
  {
   "cell_type": "code",
   "execution_count": 8,
   "id": "6b0907a3",
   "metadata": {},
   "outputs": [
    {
     "data": {
      "text/plain": [
       "Year\n",
       "2019    19296\n",
       "2018    18302\n",
       "2017    18008\n",
       "2016    17418\n",
       "2015    16339\n",
       "2013    16178\n",
       "2011    16132\n",
       "2014    15587\n",
       "2009    15341\n",
       "2012    15279\n",
       "2008    15150\n",
       "2010    14889\n",
       "2007    14681\n",
       "2006    14678\n",
       "2003    14662\n",
       "2002    14182\n",
       "2004    14151\n",
       "2005    14063\n",
       "2000    13593\n",
       "2001    13307\n",
       "1999    13013\n",
       "1998    12290\n",
       "1997     8549\n",
       "2020      319\n",
       "Name: count, dtype: int64"
      ]
     },
     "execution_count": 8,
     "metadata": {},
     "output_type": "execute_result"
    }
   ],
   "source": [
    "df['Year'].value_counts()"
   ]
  },
  {
   "cell_type": "code",
   "execution_count": 9,
   "id": "bfb59ef2",
   "metadata": {},
   "outputs": [
    {
     "name": "stdout",
     "output_type": "stream",
     "text": [
      "The number of rows remaining are 345407.\n"
     ]
    }
   ],
   "source": [
    "# Removing rows where year is 1997 and 2020 as data seems to be incomplete for the following year.\n",
    "df = df.drop(df[(df['Year'] == '1997') | (df['Year'] == '2020')].index)\n",
    "print(f\"The number of rows remaining are {df.shape[0]}.\")"
   ]
  },
  {
   "cell_type": "code",
   "execution_count": 10,
   "id": "c3ab10ff",
   "metadata": {},
   "outputs": [
    {
     "data": {
      "text/plain": [
       "State                  0\n",
       "District               0\n",
       "Crop                  32\n",
       "Year                   0\n",
       "Season                 1\n",
       "Area                  33\n",
       "Area Units             0\n",
       "Production          4993\n",
       "Production Units       0\n",
       "Yield                 33\n",
       "dtype: int64"
      ]
     },
     "execution_count": 10,
     "metadata": {},
     "output_type": "execute_result"
    }
   ],
   "source": [
    "## Checking for null values in the dataset\n",
    "df.isnull().sum()"
   ]
  },
  {
   "cell_type": "code",
   "execution_count": 11,
   "id": "976263f1",
   "metadata": {},
   "outputs": [
    {
     "name": "stdout",
     "output_type": "stream",
     "text": [
      "checking for null values after removing null values\n",
      "State               0\n",
      "District            0\n",
      "Crop                0\n",
      "Year                0\n",
      "Season              0\n",
      "Area                0\n",
      "Area Units          0\n",
      "Production          0\n",
      "Production Units    0\n",
      "Yield               0\n",
      "dtype: int64\n",
      "The number of rows remaining are 340414.\n"
     ]
    }
   ],
   "source": [
    "#removing null values from the dataset\n",
    "df=df.dropna()\n",
    "print('checking for null values after removing null values')\n",
    "print(df.isnull().sum())\n",
    "print(f\"The number of rows remaining are {df.shape[0]}.\")"
   ]
  },
  {
   "cell_type": "code",
   "execution_count": 12,
   "id": "e95b3e1c",
   "metadata": {},
   "outputs": [
    {
     "name": "stdout",
     "output_type": "stream",
     "text": [
      "['Tonnes' 'Nuts' 'Bales']\n",
      "['Hectare']\n"
     ]
    }
   ],
   "source": [
    "print(df['Production Units'].unique())\n",
    "print(df['Area Units'].unique())"
   ]
  },
  {
   "cell_type": "markdown",
   "id": "69e0ae6b",
   "metadata": {},
   "source": [
    "Here all the area units in `hectare` but the production units are not same (`Tonnes , Nuts , Bales`) so we need to convert them into same units i.e i am converting them into `tonnes`"
   ]
  },
  {
   "cell_type": "markdown",
   "id": "ddc617d5",
   "metadata": {},
   "source": [
    "Considering 1 Kg = 10 coconuts then 1 Tonne = 10,000 Cocunts or 1 Nut = 0.0001 Tonne\n",
    "\n",
    "1 Bale = 0.22 Tonne or 1 Tonne = 4.6 Bales"
   ]
  },
  {
   "cell_type": "code",
   "execution_count": 13,
   "id": "e2c04a38",
   "metadata": {},
   "outputs": [],
   "source": [
    "# Converting Production Units to Tonnes\n",
    "df['Production_in_tonnes'] = df.apply(\n",
    "    lambda row: row['Production'] * 0.0001 if row['Production Units'] == 'Nuts' else\n",
    "                row['Production'] * 0.22 if row['Production Units'] == 'Bales' else\n",
    "                row['Production'],\n",
    "    axis=1\n",
    ")\n"
   ]
  },
  {
   "cell_type": "code",
   "execution_count": 14,
   "id": "525cac39",
   "metadata": {},
   "outputs": [
    {
     "data": {
      "text/html": [
       "<div>\n",
       "<style scoped>\n",
       "    .dataframe tbody tr th:only-of-type {\n",
       "        vertical-align: middle;\n",
       "    }\n",
       "\n",
       "    .dataframe tbody tr th {\n",
       "        vertical-align: top;\n",
       "    }\n",
       "\n",
       "    .dataframe thead th {\n",
       "        text-align: right;\n",
       "    }\n",
       "</style>\n",
       "<table border=\"1\" class=\"dataframe\">\n",
       "  <thead>\n",
       "    <tr style=\"text-align: right;\">\n",
       "      <th></th>\n",
       "      <th>State</th>\n",
       "      <th>District</th>\n",
       "      <th>Crop</th>\n",
       "      <th>Year</th>\n",
       "      <th>Season</th>\n",
       "      <th>Area</th>\n",
       "      <th>Area Units</th>\n",
       "      <th>Production</th>\n",
       "      <th>Production Units</th>\n",
       "      <th>Yield</th>\n",
       "      <th>Production_in_tonnes</th>\n",
       "    </tr>\n",
       "  </thead>\n",
       "  <tbody>\n",
       "    <tr>\n",
       "      <th>0</th>\n",
       "      <td>Andaman and Nicobar Islands</td>\n",
       "      <td>NICOBARS</td>\n",
       "      <td>Arecanut</td>\n",
       "      <td>2001</td>\n",
       "      <td>Kharif</td>\n",
       "      <td>1254.0</td>\n",
       "      <td>Hectare</td>\n",
       "      <td>2061.0</td>\n",
       "      <td>Tonnes</td>\n",
       "      <td>1.643541</td>\n",
       "      <td>2061.0</td>\n",
       "    </tr>\n",
       "    <tr>\n",
       "      <th>1</th>\n",
       "      <td>Andaman and Nicobar Islands</td>\n",
       "      <td>NICOBARS</td>\n",
       "      <td>Arecanut</td>\n",
       "      <td>2002</td>\n",
       "      <td>Whole Year</td>\n",
       "      <td>1258.0</td>\n",
       "      <td>Hectare</td>\n",
       "      <td>2083.0</td>\n",
       "      <td>Tonnes</td>\n",
       "      <td>1.655803</td>\n",
       "      <td>2083.0</td>\n",
       "    </tr>\n",
       "    <tr>\n",
       "      <th>2</th>\n",
       "      <td>Andaman and Nicobar Islands</td>\n",
       "      <td>NICOBARS</td>\n",
       "      <td>Arecanut</td>\n",
       "      <td>2003</td>\n",
       "      <td>Whole Year</td>\n",
       "      <td>1261.0</td>\n",
       "      <td>Hectare</td>\n",
       "      <td>1525.0</td>\n",
       "      <td>Tonnes</td>\n",
       "      <td>1.209358</td>\n",
       "      <td>1525.0</td>\n",
       "    </tr>\n",
       "    <tr>\n",
       "      <th>3</th>\n",
       "      <td>Andaman and Nicobar Islands</td>\n",
       "      <td>NORTH AND MIDDLE ANDAMAN</td>\n",
       "      <td>Arecanut</td>\n",
       "      <td>2001</td>\n",
       "      <td>Kharif</td>\n",
       "      <td>3100.0</td>\n",
       "      <td>Hectare</td>\n",
       "      <td>5239.0</td>\n",
       "      <td>Tonnes</td>\n",
       "      <td>1.690000</td>\n",
       "      <td>5239.0</td>\n",
       "    </tr>\n",
       "    <tr>\n",
       "      <th>4</th>\n",
       "      <td>Andaman and Nicobar Islands</td>\n",
       "      <td>SOUTH ANDAMANS</td>\n",
       "      <td>Arecanut</td>\n",
       "      <td>2002</td>\n",
       "      <td>Whole Year</td>\n",
       "      <td>3105.0</td>\n",
       "      <td>Hectare</td>\n",
       "      <td>5267.0</td>\n",
       "      <td>Tonnes</td>\n",
       "      <td>1.696296</td>\n",
       "      <td>5267.0</td>\n",
       "    </tr>\n",
       "  </tbody>\n",
       "</table>\n",
       "</div>"
      ],
      "text/plain": [
       "                         State                  District      Crop  Year  \\\n",
       "0  Andaman and Nicobar Islands                  NICOBARS  Arecanut  2001   \n",
       "1  Andaman and Nicobar Islands                  NICOBARS  Arecanut  2002   \n",
       "2  Andaman and Nicobar Islands                  NICOBARS  Arecanut  2003   \n",
       "3  Andaman and Nicobar Islands  NORTH AND MIDDLE ANDAMAN  Arecanut  2001   \n",
       "4  Andaman and Nicobar Islands            SOUTH ANDAMANS  Arecanut  2002   \n",
       "\n",
       "       Season    Area Area Units  Production Production Units     Yield  \\\n",
       "0      Kharif  1254.0    Hectare      2061.0           Tonnes  1.643541   \n",
       "1  Whole Year  1258.0    Hectare      2083.0           Tonnes  1.655803   \n",
       "2  Whole Year  1261.0    Hectare      1525.0           Tonnes  1.209358   \n",
       "3      Kharif  3100.0    Hectare      5239.0           Tonnes  1.690000   \n",
       "4  Whole Year  3105.0    Hectare      5267.0           Tonnes  1.696296   \n",
       "\n",
       "   Production_in_tonnes  \n",
       "0                2061.0  \n",
       "1                2083.0  \n",
       "2                1525.0  \n",
       "3                5239.0  \n",
       "4                5267.0  "
      ]
     },
     "execution_count": 14,
     "metadata": {},
     "output_type": "execute_result"
    }
   ],
   "source": [
    "df.head()"
   ]
  },
  {
   "cell_type": "code",
   "execution_count": 15,
   "id": "7f2bd8e1",
   "metadata": {},
   "outputs": [
    {
     "name": "stdout",
     "output_type": "stream",
     "text": [
      "number of unique crops in the dataset: 56\n",
      "number of unique states in the dataset: 36\n",
      "number of unique districts in the dataset: 728\n",
      "number of unique seasons in the dataset: 6\n"
     ]
    }
   ],
   "source": [
    "print(f'number of unique crops in the dataset: {df[\"Crop\"].nunique()}')\n",
    "print(f'number of unique states in the dataset: {df[\"State\"].nunique()}')\n",
    "print(f'number of unique districts in the dataset: {df[\"District\"].nunique()}')\n",
    "print(f'number of unique seasons in the dataset: {df[\"Season\"].nunique()}')"
   ]
  },
  {
   "cell_type": "code",
   "execution_count": 16,
   "id": "ec631553",
   "metadata": {},
   "outputs": [
    {
     "data": {
      "text/plain": [
       "array(['Kharif', 'Whole Year', 'Rabi', 'Autumn', 'Summer', 'Winter'],\n",
       "      dtype=object)"
      ]
     },
     "execution_count": 16,
     "metadata": {},
     "output_type": "execute_result"
    }
   ],
   "source": [
    "df[\"Season\"].unique()"
   ]
  },
  {
   "cell_type": "code",
   "execution_count": 17,
   "id": "f5866f00",
   "metadata": {},
   "outputs": [],
   "source": [
    "#we changed the the untins so we need to also need to chane the yeild \n",
    "df = df.drop('Yield',axis = 1)\n",
    "df['Yield'] = df['Production_in_tonnes'] / df['Area']\n"
   ]
  },
  {
   "cell_type": "code",
   "execution_count": 18,
   "id": "69615b83",
   "metadata": {},
   "outputs": [
    {
     "data": {
      "text/html": [
       "<div>\n",
       "<style scoped>\n",
       "    .dataframe tbody tr th:only-of-type {\n",
       "        vertical-align: middle;\n",
       "    }\n",
       "\n",
       "    .dataframe tbody tr th {\n",
       "        vertical-align: top;\n",
       "    }\n",
       "\n",
       "    .dataframe thead th {\n",
       "        text-align: right;\n",
       "    }\n",
       "</style>\n",
       "<table border=\"1\" class=\"dataframe\">\n",
       "  <thead>\n",
       "    <tr style=\"text-align: right;\">\n",
       "      <th></th>\n",
       "      <th>State</th>\n",
       "      <th>District</th>\n",
       "      <th>Crop</th>\n",
       "      <th>Year</th>\n",
       "      <th>Season</th>\n",
       "      <th>Area</th>\n",
       "      <th>Area Units</th>\n",
       "      <th>Production</th>\n",
       "      <th>Production Units</th>\n",
       "      <th>Production_in_tonnes</th>\n",
       "      <th>Yield</th>\n",
       "    </tr>\n",
       "  </thead>\n",
       "  <tbody>\n",
       "    <tr>\n",
       "      <th>0</th>\n",
       "      <td>Andaman and Nicobar Islands</td>\n",
       "      <td>NICOBARS</td>\n",
       "      <td>Arecanut</td>\n",
       "      <td>2001</td>\n",
       "      <td>Kharif</td>\n",
       "      <td>1254.0</td>\n",
       "      <td>Hectare</td>\n",
       "      <td>2061.0</td>\n",
       "      <td>Tonnes</td>\n",
       "      <td>2061.0</td>\n",
       "      <td>1.643541</td>\n",
       "    </tr>\n",
       "    <tr>\n",
       "      <th>1</th>\n",
       "      <td>Andaman and Nicobar Islands</td>\n",
       "      <td>NICOBARS</td>\n",
       "      <td>Arecanut</td>\n",
       "      <td>2002</td>\n",
       "      <td>Whole Year</td>\n",
       "      <td>1258.0</td>\n",
       "      <td>Hectare</td>\n",
       "      <td>2083.0</td>\n",
       "      <td>Tonnes</td>\n",
       "      <td>2083.0</td>\n",
       "      <td>1.655803</td>\n",
       "    </tr>\n",
       "    <tr>\n",
       "      <th>2</th>\n",
       "      <td>Andaman and Nicobar Islands</td>\n",
       "      <td>NICOBARS</td>\n",
       "      <td>Arecanut</td>\n",
       "      <td>2003</td>\n",
       "      <td>Whole Year</td>\n",
       "      <td>1261.0</td>\n",
       "      <td>Hectare</td>\n",
       "      <td>1525.0</td>\n",
       "      <td>Tonnes</td>\n",
       "      <td>1525.0</td>\n",
       "      <td>1.209358</td>\n",
       "    </tr>\n",
       "    <tr>\n",
       "      <th>3</th>\n",
       "      <td>Andaman and Nicobar Islands</td>\n",
       "      <td>NORTH AND MIDDLE ANDAMAN</td>\n",
       "      <td>Arecanut</td>\n",
       "      <td>2001</td>\n",
       "      <td>Kharif</td>\n",
       "      <td>3100.0</td>\n",
       "      <td>Hectare</td>\n",
       "      <td>5239.0</td>\n",
       "      <td>Tonnes</td>\n",
       "      <td>5239.0</td>\n",
       "      <td>1.690000</td>\n",
       "    </tr>\n",
       "    <tr>\n",
       "      <th>4</th>\n",
       "      <td>Andaman and Nicobar Islands</td>\n",
       "      <td>SOUTH ANDAMANS</td>\n",
       "      <td>Arecanut</td>\n",
       "      <td>2002</td>\n",
       "      <td>Whole Year</td>\n",
       "      <td>3105.0</td>\n",
       "      <td>Hectare</td>\n",
       "      <td>5267.0</td>\n",
       "      <td>Tonnes</td>\n",
       "      <td>5267.0</td>\n",
       "      <td>1.696296</td>\n",
       "    </tr>\n",
       "  </tbody>\n",
       "</table>\n",
       "</div>"
      ],
      "text/plain": [
       "                         State                  District      Crop  Year  \\\n",
       "0  Andaman and Nicobar Islands                  NICOBARS  Arecanut  2001   \n",
       "1  Andaman and Nicobar Islands                  NICOBARS  Arecanut  2002   \n",
       "2  Andaman and Nicobar Islands                  NICOBARS  Arecanut  2003   \n",
       "3  Andaman and Nicobar Islands  NORTH AND MIDDLE ANDAMAN  Arecanut  2001   \n",
       "4  Andaman and Nicobar Islands            SOUTH ANDAMANS  Arecanut  2002   \n",
       "\n",
       "       Season    Area Area Units  Production Production Units  \\\n",
       "0      Kharif  1254.0    Hectare      2061.0           Tonnes   \n",
       "1  Whole Year  1258.0    Hectare      2083.0           Tonnes   \n",
       "2  Whole Year  1261.0    Hectare      1525.0           Tonnes   \n",
       "3      Kharif  3100.0    Hectare      5239.0           Tonnes   \n",
       "4  Whole Year  3105.0    Hectare      5267.0           Tonnes   \n",
       "\n",
       "   Production_in_tonnes     Yield  \n",
       "0                2061.0  1.643541  \n",
       "1                2083.0  1.655803  \n",
       "2                1525.0  1.209358  \n",
       "3                5239.0  1.690000  \n",
       "4                5267.0  1.696296  "
      ]
     },
     "execution_count": 18,
     "metadata": {},
     "output_type": "execute_result"
    }
   ],
   "source": [
    "df.head(5)"
   ]
  },
  {
   "cell_type": "code",
   "execution_count": 19,
   "id": "94cac8c2",
   "metadata": {},
   "outputs": [],
   "source": [
    "new_df = df.drop(['Production Units', 'Area Units','Production'], axis=1)"
   ]
  },
  {
   "cell_type": "code",
   "execution_count": 20,
   "id": "ad20aa30",
   "metadata": {},
   "outputs": [
    {
     "data": {
      "text/html": [
       "<div>\n",
       "<style scoped>\n",
       "    .dataframe tbody tr th:only-of-type {\n",
       "        vertical-align: middle;\n",
       "    }\n",
       "\n",
       "    .dataframe tbody tr th {\n",
       "        vertical-align: top;\n",
       "    }\n",
       "\n",
       "    .dataframe thead th {\n",
       "        text-align: right;\n",
       "    }\n",
       "</style>\n",
       "<table border=\"1\" class=\"dataframe\">\n",
       "  <thead>\n",
       "    <tr style=\"text-align: right;\">\n",
       "      <th></th>\n",
       "      <th>State</th>\n",
       "      <th>District</th>\n",
       "      <th>Crop</th>\n",
       "      <th>Year</th>\n",
       "      <th>Season</th>\n",
       "      <th>Area</th>\n",
       "      <th>Production_in_tonnes</th>\n",
       "      <th>Yield</th>\n",
       "    </tr>\n",
       "  </thead>\n",
       "  <tbody>\n",
       "    <tr>\n",
       "      <th>0</th>\n",
       "      <td>Andaman and Nicobar Islands</td>\n",
       "      <td>NICOBARS</td>\n",
       "      <td>Arecanut</td>\n",
       "      <td>2001</td>\n",
       "      <td>Kharif</td>\n",
       "      <td>1254.0</td>\n",
       "      <td>2061.0</td>\n",
       "      <td>1.643541</td>\n",
       "    </tr>\n",
       "    <tr>\n",
       "      <th>1</th>\n",
       "      <td>Andaman and Nicobar Islands</td>\n",
       "      <td>NICOBARS</td>\n",
       "      <td>Arecanut</td>\n",
       "      <td>2002</td>\n",
       "      <td>Whole Year</td>\n",
       "      <td>1258.0</td>\n",
       "      <td>2083.0</td>\n",
       "      <td>1.655803</td>\n",
       "    </tr>\n",
       "    <tr>\n",
       "      <th>2</th>\n",
       "      <td>Andaman and Nicobar Islands</td>\n",
       "      <td>NICOBARS</td>\n",
       "      <td>Arecanut</td>\n",
       "      <td>2003</td>\n",
       "      <td>Whole Year</td>\n",
       "      <td>1261.0</td>\n",
       "      <td>1525.0</td>\n",
       "      <td>1.209358</td>\n",
       "    </tr>\n",
       "    <tr>\n",
       "      <th>3</th>\n",
       "      <td>Andaman and Nicobar Islands</td>\n",
       "      <td>NORTH AND MIDDLE ANDAMAN</td>\n",
       "      <td>Arecanut</td>\n",
       "      <td>2001</td>\n",
       "      <td>Kharif</td>\n",
       "      <td>3100.0</td>\n",
       "      <td>5239.0</td>\n",
       "      <td>1.690000</td>\n",
       "    </tr>\n",
       "    <tr>\n",
       "      <th>4</th>\n",
       "      <td>Andaman and Nicobar Islands</td>\n",
       "      <td>SOUTH ANDAMANS</td>\n",
       "      <td>Arecanut</td>\n",
       "      <td>2002</td>\n",
       "      <td>Whole Year</td>\n",
       "      <td>3105.0</td>\n",
       "      <td>5267.0</td>\n",
       "      <td>1.696296</td>\n",
       "    </tr>\n",
       "  </tbody>\n",
       "</table>\n",
       "</div>"
      ],
      "text/plain": [
       "                         State                  District      Crop  Year  \\\n",
       "0  Andaman and Nicobar Islands                  NICOBARS  Arecanut  2001   \n",
       "1  Andaman and Nicobar Islands                  NICOBARS  Arecanut  2002   \n",
       "2  Andaman and Nicobar Islands                  NICOBARS  Arecanut  2003   \n",
       "3  Andaman and Nicobar Islands  NORTH AND MIDDLE ANDAMAN  Arecanut  2001   \n",
       "4  Andaman and Nicobar Islands            SOUTH ANDAMANS  Arecanut  2002   \n",
       "\n",
       "       Season    Area  Production_in_tonnes     Yield  \n",
       "0      Kharif  1254.0                2061.0  1.643541  \n",
       "1  Whole Year  1258.0                2083.0  1.655803  \n",
       "2  Whole Year  1261.0                1525.0  1.209358  \n",
       "3      Kharif  3100.0                5239.0  1.690000  \n",
       "4  Whole Year  3105.0                5267.0  1.696296  "
      ]
     },
     "execution_count": 20,
     "metadata": {},
     "output_type": "execute_result"
    }
   ],
   "source": [
    "new_df.head()"
   ]
  },
  {
   "cell_type": "code",
   "execution_count": 21,
   "id": "1e340c1d",
   "metadata": {},
   "outputs": [],
   "source": [
    "from sklearn.preprocessing import OneHotEncoder\n",
    "\n",
    "categorical_cols = ['State', 'District', 'Crop', 'Season']\n",
    "df_encoded = pd.get_dummies(new_df, columns=categorical_cols, drop_first=True)\n"
   ]
  },
  {
   "cell_type": "code",
   "execution_count": 22,
   "id": "4225dc7b",
   "metadata": {},
   "outputs": [
    {
     "data": {
      "text/html": [
       "<div>\n",
       "<style scoped>\n",
       "    .dataframe tbody tr th:only-of-type {\n",
       "        vertical-align: middle;\n",
       "    }\n",
       "\n",
       "    .dataframe tbody tr th {\n",
       "        vertical-align: top;\n",
       "    }\n",
       "\n",
       "    .dataframe thead th {\n",
       "        text-align: right;\n",
       "    }\n",
       "</style>\n",
       "<table border=\"1\" class=\"dataframe\">\n",
       "  <thead>\n",
       "    <tr style=\"text-align: right;\">\n",
       "      <th></th>\n",
       "      <th>State</th>\n",
       "      <th>District</th>\n",
       "      <th>Crop</th>\n",
       "      <th>Year</th>\n",
       "      <th>Season</th>\n",
       "      <th>Area</th>\n",
       "      <th>Production_in_tonnes</th>\n",
       "      <th>Yield</th>\n",
       "    </tr>\n",
       "  </thead>\n",
       "  <tbody>\n",
       "    <tr>\n",
       "      <th>0</th>\n",
       "      <td>Andaman and Nicobar Islands</td>\n",
       "      <td>NICOBARS</td>\n",
       "      <td>Arecanut</td>\n",
       "      <td>2001</td>\n",
       "      <td>Kharif</td>\n",
       "      <td>1254.0</td>\n",
       "      <td>2061.0</td>\n",
       "      <td>1.643541</td>\n",
       "    </tr>\n",
       "    <tr>\n",
       "      <th>1</th>\n",
       "      <td>Andaman and Nicobar Islands</td>\n",
       "      <td>NICOBARS</td>\n",
       "      <td>Arecanut</td>\n",
       "      <td>2002</td>\n",
       "      <td>Whole Year</td>\n",
       "      <td>1258.0</td>\n",
       "      <td>2083.0</td>\n",
       "      <td>1.655803</td>\n",
       "    </tr>\n",
       "    <tr>\n",
       "      <th>2</th>\n",
       "      <td>Andaman and Nicobar Islands</td>\n",
       "      <td>NICOBARS</td>\n",
       "      <td>Arecanut</td>\n",
       "      <td>2003</td>\n",
       "      <td>Whole Year</td>\n",
       "      <td>1261.0</td>\n",
       "      <td>1525.0</td>\n",
       "      <td>1.209358</td>\n",
       "    </tr>\n",
       "    <tr>\n",
       "      <th>3</th>\n",
       "      <td>Andaman and Nicobar Islands</td>\n",
       "      <td>NORTH AND MIDDLE ANDAMAN</td>\n",
       "      <td>Arecanut</td>\n",
       "      <td>2001</td>\n",
       "      <td>Kharif</td>\n",
       "      <td>3100.0</td>\n",
       "      <td>5239.0</td>\n",
       "      <td>1.690000</td>\n",
       "    </tr>\n",
       "    <tr>\n",
       "      <th>4</th>\n",
       "      <td>Andaman and Nicobar Islands</td>\n",
       "      <td>SOUTH ANDAMANS</td>\n",
       "      <td>Arecanut</td>\n",
       "      <td>2002</td>\n",
       "      <td>Whole Year</td>\n",
       "      <td>3105.0</td>\n",
       "      <td>5267.0</td>\n",
       "      <td>1.696296</td>\n",
       "    </tr>\n",
       "  </tbody>\n",
       "</table>\n",
       "</div>"
      ],
      "text/plain": [
       "                         State                  District      Crop  Year  \\\n",
       "0  Andaman and Nicobar Islands                  NICOBARS  Arecanut  2001   \n",
       "1  Andaman and Nicobar Islands                  NICOBARS  Arecanut  2002   \n",
       "2  Andaman and Nicobar Islands                  NICOBARS  Arecanut  2003   \n",
       "3  Andaman and Nicobar Islands  NORTH AND MIDDLE ANDAMAN  Arecanut  2001   \n",
       "4  Andaman and Nicobar Islands            SOUTH ANDAMANS  Arecanut  2002   \n",
       "\n",
       "       Season    Area  Production_in_tonnes     Yield  \n",
       "0      Kharif  1254.0                2061.0  1.643541  \n",
       "1  Whole Year  1258.0                2083.0  1.655803  \n",
       "2  Whole Year  1261.0                1525.0  1.209358  \n",
       "3      Kharif  3100.0                5239.0  1.690000  \n",
       "4  Whole Year  3105.0                5267.0  1.696296  "
      ]
     },
     "execution_count": 22,
     "metadata": {},
     "output_type": "execute_result"
    }
   ],
   "source": [
    "new_df.head()"
   ]
  },
  {
   "cell_type": "code",
   "execution_count": 23,
   "id": "d6980e1f",
   "metadata": {},
   "outputs": [
    {
     "data": {
      "text/html": [
       "<div>\n",
       "<style scoped>\n",
       "    .dataframe tbody tr th:only-of-type {\n",
       "        vertical-align: middle;\n",
       "    }\n",
       "\n",
       "    .dataframe tbody tr th {\n",
       "        vertical-align: top;\n",
       "    }\n",
       "\n",
       "    .dataframe thead th {\n",
       "        text-align: right;\n",
       "    }\n",
       "</style>\n",
       "<table border=\"1\" class=\"dataframe\">\n",
       "  <thead>\n",
       "    <tr style=\"text-align: right;\">\n",
       "      <th></th>\n",
       "      <th>State</th>\n",
       "      <th>District</th>\n",
       "      <th>Crop</th>\n",
       "      <th>Year</th>\n",
       "      <th>Season</th>\n",
       "      <th>Area</th>\n",
       "      <th>Production_in_tonnes</th>\n",
       "      <th>Yield</th>\n",
       "    </tr>\n",
       "  </thead>\n",
       "  <tbody>\n",
       "    <tr>\n",
       "      <th>0</th>\n",
       "      <td>Andaman and Nicobar Islands</td>\n",
       "      <td>NICOBARS</td>\n",
       "      <td>Arecanut</td>\n",
       "      <td>2001</td>\n",
       "      <td>Kharif</td>\n",
       "      <td>0.000146</td>\n",
       "      <td>2061.0</td>\n",
       "      <td>1.643541</td>\n",
       "    </tr>\n",
       "    <tr>\n",
       "      <th>1</th>\n",
       "      <td>Andaman and Nicobar Islands</td>\n",
       "      <td>NICOBARS</td>\n",
       "      <td>Arecanut</td>\n",
       "      <td>2002</td>\n",
       "      <td>Whole Year</td>\n",
       "      <td>0.000147</td>\n",
       "      <td>2083.0</td>\n",
       "      <td>1.655803</td>\n",
       "    </tr>\n",
       "    <tr>\n",
       "      <th>2</th>\n",
       "      <td>Andaman and Nicobar Islands</td>\n",
       "      <td>NICOBARS</td>\n",
       "      <td>Arecanut</td>\n",
       "      <td>2003</td>\n",
       "      <td>Whole Year</td>\n",
       "      <td>0.000147</td>\n",
       "      <td>1525.0</td>\n",
       "      <td>1.209358</td>\n",
       "    </tr>\n",
       "    <tr>\n",
       "      <th>3</th>\n",
       "      <td>Andaman and Nicobar Islands</td>\n",
       "      <td>NORTH AND MIDDLE ANDAMAN</td>\n",
       "      <td>Arecanut</td>\n",
       "      <td>2001</td>\n",
       "      <td>Kharif</td>\n",
       "      <td>0.000361</td>\n",
       "      <td>5239.0</td>\n",
       "      <td>1.690000</td>\n",
       "    </tr>\n",
       "    <tr>\n",
       "      <th>4</th>\n",
       "      <td>Andaman and Nicobar Islands</td>\n",
       "      <td>SOUTH ANDAMANS</td>\n",
       "      <td>Arecanut</td>\n",
       "      <td>2002</td>\n",
       "      <td>Whole Year</td>\n",
       "      <td>0.000362</td>\n",
       "      <td>5267.0</td>\n",
       "      <td>1.696296</td>\n",
       "    </tr>\n",
       "  </tbody>\n",
       "</table>\n",
       "</div>"
      ],
      "text/plain": [
       "                         State                  District      Crop  Year  \\\n",
       "0  Andaman and Nicobar Islands                  NICOBARS  Arecanut  2001   \n",
       "1  Andaman and Nicobar Islands                  NICOBARS  Arecanut  2002   \n",
       "2  Andaman and Nicobar Islands                  NICOBARS  Arecanut  2003   \n",
       "3  Andaman and Nicobar Islands  NORTH AND MIDDLE ANDAMAN  Arecanut  2001   \n",
       "4  Andaman and Nicobar Islands            SOUTH ANDAMANS  Arecanut  2002   \n",
       "\n",
       "       Season      Area  Production_in_tonnes     Yield  \n",
       "0      Kharif  0.000146                2061.0  1.643541  \n",
       "1  Whole Year  0.000147                2083.0  1.655803  \n",
       "2  Whole Year  0.000147                1525.0  1.209358  \n",
       "3      Kharif  0.000361                5239.0  1.690000  \n",
       "4  Whole Year  0.000362                5267.0  1.696296  "
      ]
     },
     "execution_count": 23,
     "metadata": {},
     "output_type": "execute_result"
    }
   ],
   "source": [
    "from sklearn.preprocessing import MinMaxScaler\n",
    "\n",
    "# Initialize the scaler\n",
    "scaler = MinMaxScaler()\n",
    "\n",
    "# Normalize the 'Area' column\n",
    "new_df['Area'] = scaler.fit_transform(new_df[['Area']])\n",
    "\n",
    "# Display the first few rows to verify\n",
    "new_df.head()"
   ]
  },
  {
   "cell_type": "code",
   "execution_count": 24,
   "id": "cb85510b",
   "metadata": {},
   "outputs": [
    {
     "data": {
      "text/html": [
       "<div>\n",
       "<style scoped>\n",
       "    .dataframe tbody tr th:only-of-type {\n",
       "        vertical-align: middle;\n",
       "    }\n",
       "\n",
       "    .dataframe tbody tr th {\n",
       "        vertical-align: top;\n",
       "    }\n",
       "\n",
       "    .dataframe thead th {\n",
       "        text-align: right;\n",
       "    }\n",
       "</style>\n",
       "<table border=\"1\" class=\"dataframe\">\n",
       "  <thead>\n",
       "    <tr style=\"text-align: right;\">\n",
       "      <th></th>\n",
       "      <th>State</th>\n",
       "      <th>District</th>\n",
       "      <th>Crop</th>\n",
       "      <th>Year</th>\n",
       "      <th>Season</th>\n",
       "      <th>Area</th>\n",
       "      <th>Production_in_tonnes</th>\n",
       "      <th>Yield</th>\n",
       "    </tr>\n",
       "  </thead>\n",
       "  <tbody>\n",
       "    <tr>\n",
       "      <th>0</th>\n",
       "      <td>Andaman and Nicobar Islands</td>\n",
       "      <td>NICOBARS</td>\n",
       "      <td>Arecanut</td>\n",
       "      <td>2001</td>\n",
       "      <td>Kharif</td>\n",
       "      <td>0.000146</td>\n",
       "      <td>0.000100</td>\n",
       "      <td>1.643541</td>\n",
       "    </tr>\n",
       "    <tr>\n",
       "      <th>1</th>\n",
       "      <td>Andaman and Nicobar Islands</td>\n",
       "      <td>NICOBARS</td>\n",
       "      <td>Arecanut</td>\n",
       "      <td>2002</td>\n",
       "      <td>Whole Year</td>\n",
       "      <td>0.000147</td>\n",
       "      <td>0.000101</td>\n",
       "      <td>1.655803</td>\n",
       "    </tr>\n",
       "    <tr>\n",
       "      <th>2</th>\n",
       "      <td>Andaman and Nicobar Islands</td>\n",
       "      <td>NICOBARS</td>\n",
       "      <td>Arecanut</td>\n",
       "      <td>2003</td>\n",
       "      <td>Whole Year</td>\n",
       "      <td>0.000147</td>\n",
       "      <td>0.000074</td>\n",
       "      <td>1.209358</td>\n",
       "    </tr>\n",
       "    <tr>\n",
       "      <th>3</th>\n",
       "      <td>Andaman and Nicobar Islands</td>\n",
       "      <td>NORTH AND MIDDLE ANDAMAN</td>\n",
       "      <td>Arecanut</td>\n",
       "      <td>2001</td>\n",
       "      <td>Kharif</td>\n",
       "      <td>0.000361</td>\n",
       "      <td>0.000253</td>\n",
       "      <td>1.690000</td>\n",
       "    </tr>\n",
       "    <tr>\n",
       "      <th>4</th>\n",
       "      <td>Andaman and Nicobar Islands</td>\n",
       "      <td>SOUTH ANDAMANS</td>\n",
       "      <td>Arecanut</td>\n",
       "      <td>2002</td>\n",
       "      <td>Whole Year</td>\n",
       "      <td>0.000362</td>\n",
       "      <td>0.000255</td>\n",
       "      <td>1.696296</td>\n",
       "    </tr>\n",
       "  </tbody>\n",
       "</table>\n",
       "</div>"
      ],
      "text/plain": [
       "                         State                  District      Crop  Year  \\\n",
       "0  Andaman and Nicobar Islands                  NICOBARS  Arecanut  2001   \n",
       "1  Andaman and Nicobar Islands                  NICOBARS  Arecanut  2002   \n",
       "2  Andaman and Nicobar Islands                  NICOBARS  Arecanut  2003   \n",
       "3  Andaman and Nicobar Islands  NORTH AND MIDDLE ANDAMAN  Arecanut  2001   \n",
       "4  Andaman and Nicobar Islands            SOUTH ANDAMANS  Arecanut  2002   \n",
       "\n",
       "       Season      Area  Production_in_tonnes     Yield  \n",
       "0      Kharif  0.000146              0.000100  1.643541  \n",
       "1  Whole Year  0.000147              0.000101  1.655803  \n",
       "2  Whole Year  0.000147              0.000074  1.209358  \n",
       "3      Kharif  0.000361              0.000253  1.690000  \n",
       "4  Whole Year  0.000362              0.000255  1.696296  "
      ]
     },
     "execution_count": 24,
     "metadata": {},
     "output_type": "execute_result"
    }
   ],
   "source": [
    "# Normalize the 'Production_in_tonnes' column\n",
    "new_df['Production_in_tonnes'] = scaler.fit_transform(new_df[['Production_in_tonnes']])\n",
    "\n",
    "# Display the first few rows to verify\n",
    "new_df.head()"
   ]
  },
  {
   "cell_type": "code",
   "execution_count": 25,
   "id": "5c290239",
   "metadata": {},
   "outputs": [],
   "source": [
    "new_df['Yield']= new_df[\"Yield\"].round(2)"
   ]
  },
  {
   "cell_type": "code",
   "execution_count": 26,
   "id": "164ccdef",
   "metadata": {},
   "outputs": [
    {
     "data": {
      "text/html": [
       "<div>\n",
       "<style scoped>\n",
       "    .dataframe tbody tr th:only-of-type {\n",
       "        vertical-align: middle;\n",
       "    }\n",
       "\n",
       "    .dataframe tbody tr th {\n",
       "        vertical-align: top;\n",
       "    }\n",
       "\n",
       "    .dataframe thead th {\n",
       "        text-align: right;\n",
       "    }\n",
       "</style>\n",
       "<table border=\"1\" class=\"dataframe\">\n",
       "  <thead>\n",
       "    <tr style=\"text-align: right;\">\n",
       "      <th></th>\n",
       "      <th>Crop</th>\n",
       "      <th>Season</th>\n",
       "      <th>State</th>\n",
       "      <th>District</th>\n",
       "      <th>Area</th>\n",
       "      <th>Production_in_tonnes</th>\n",
       "      <th>Yield</th>\n",
       "    </tr>\n",
       "  </thead>\n",
       "  <tbody>\n",
       "    <tr>\n",
       "      <th>0</th>\n",
       "      <td>Arecanut</td>\n",
       "      <td>Autumn</td>\n",
       "      <td>Andaman and Nicobar Islands</td>\n",
       "      <td>Andaman and Nicobar Islands</td>\n",
       "      <td>0.000967</td>\n",
       "      <td>0.000299</td>\n",
       "      <td>0.745</td>\n",
       "    </tr>\n",
       "    <tr>\n",
       "      <th>1</th>\n",
       "      <td>Arecanut</td>\n",
       "      <td>Kharif</td>\n",
       "      <td>Andaman and Nicobar Islands</td>\n",
       "      <td>Andaman and Nicobar Islands</td>\n",
       "      <td>0.000284</td>\n",
       "      <td>0.000165</td>\n",
       "      <td>1.400</td>\n",
       "    </tr>\n",
       "    <tr>\n",
       "      <th>2</th>\n",
       "      <td>Arecanut</td>\n",
       "      <td>Kharif</td>\n",
       "      <td>Andaman and Nicobar Islands</td>\n",
       "      <td>NICOBARS</td>\n",
       "      <td>0.000292</td>\n",
       "      <td>0.000196</td>\n",
       "      <td>1.615</td>\n",
       "    </tr>\n",
       "    <tr>\n",
       "      <th>3</th>\n",
       "      <td>Arecanut</td>\n",
       "      <td>Kharif</td>\n",
       "      <td>Andaman and Nicobar Islands</td>\n",
       "      <td>NORTH AND MIDDLE ANDAMAN</td>\n",
       "      <td>0.000723</td>\n",
       "      <td>0.000504</td>\n",
       "      <td>1.685</td>\n",
       "    </tr>\n",
       "    <tr>\n",
       "      <th>4</th>\n",
       "      <td>Arecanut</td>\n",
       "      <td>Kharif</td>\n",
       "      <td>Andhra Pradesh</td>\n",
       "      <td>ANANTAPUR</td>\n",
       "      <td>0.000559</td>\n",
       "      <td>0.001122</td>\n",
       "      <td>4.100</td>\n",
       "    </tr>\n",
       "  </tbody>\n",
       "</table>\n",
       "</div>"
      ],
      "text/plain": [
       "       Crop  Season                        State                     District  \\\n",
       "0  Arecanut  Autumn  Andaman and Nicobar Islands  Andaman and Nicobar Islands   \n",
       "1  Arecanut  Kharif  Andaman and Nicobar Islands  Andaman and Nicobar Islands   \n",
       "2  Arecanut  Kharif  Andaman and Nicobar Islands                     NICOBARS   \n",
       "3  Arecanut  Kharif  Andaman and Nicobar Islands     NORTH AND MIDDLE ANDAMAN   \n",
       "4  Arecanut  Kharif               Andhra Pradesh                    ANANTAPUR   \n",
       "\n",
       "       Area  Production_in_tonnes  Yield  \n",
       "0  0.000967              0.000299  0.745  \n",
       "1  0.000284              0.000165  1.400  \n",
       "2  0.000292              0.000196  1.615  \n",
       "3  0.000723              0.000504  1.685  \n",
       "4  0.000559              0.001122  4.100  "
      ]
     },
     "execution_count": 26,
     "metadata": {},
     "output_type": "execute_result"
    }
   ],
   "source": [
    "# Combine data by grouping on Crop and other relevant columns, excluding Year\n",
    "combined_df = new_df.groupby(['Crop', 'Season', 'State', 'District'], as_index=False).agg({\n",
    "    'Area': 'sum',\n",
    "    'Production_in_tonnes': 'sum',\n",
    "    'Yield': 'mean'\n",
    "})\n",
    "\n",
    "combined_df.head()"
   ]
  },
  {
   "cell_type": "code",
   "execution_count": 27,
   "id": "110ee208",
   "metadata": {},
   "outputs": [
    {
     "name": "stdout",
     "output_type": "stream",
     "text": [
      "                          Area  Production_in_tonnes     Yield\n",
      "Area                  1.000000              0.290082 -0.008255\n",
      "Production_in_tonnes  0.290082              1.000000  0.163716\n",
      "Yield                -0.008255              0.163716  1.000000\n"
     ]
    },
    {
     "data": {
      "text/plain": [
       "<Axes: >"
      ]
     },
     "execution_count": 27,
     "metadata": {},
     "output_type": "execute_result"
    },
    {
     "data": {
      "image/png": "[encoded data removed]",
      "text/plain": [
       "<Figure size 640x480 with 2 Axes>"
      ]
     },
     "metadata": {},
     "output_type": "display_data"
    }
   ],
   "source": [
    "# 1. Check Correlation Matrix\n",
    "\n",
    "correlation_matrix = combined_df.select_dtypes(include=['number','float']).corr()\n",
    "print(correlation_matrix)\n",
    "sb.heatmap(correlation_matrix, annot=True, cmap='coolwarm')\n"
   ]
  },
  {
   "cell_type": "code",
   "execution_count": 28,
   "id": "065f5d93",
   "metadata": {},
   "outputs": [],
   "source": [
    "from sklearn.preprocessing import LabelEncoder\n",
    "from sklearn.model_selection import train_test_split\n",
    "# 2. Split the Data into Features and Target Variable\n",
    "X = combined_df.drop(['Yield','Production_in_tonnes'], axis=1)  # Features\n",
    "y = combined_df['Yield']  # Target variable\n",
    "\n",
    "# Encode categorical columns\n",
    "label_encoder_state = LabelEncoder()\n",
    "label_encoder_district = LabelEncoder()\n",
    "\n",
    "X['State'] = label_encoder_state.fit_transform(X['State'])\n",
    "X['District'] = label_encoder_district.fit_transform(X['District'])\n",
    "X['Crop'] = label_encoder_state.fit_transform(X['Crop'])\n",
    "X['Season'] = label_encoder_state.fit_transform(X['Season'])\n",
    "\n",
    "# Re-split the data after encoding\n",
    "X_train, X_test, y_train, y_test = train_test_split(X, y, test_size=0.2, random_state=42)"
   ]
  },
  {
   "cell_type": "code",
   "execution_count": 29,
   "id": "a640deb6",
   "metadata": {},
   "outputs": [
    {
     "data": {
      "text/html": [
       "<div>\n",
       "<style scoped>\n",
       "    .dataframe tbody tr th:only-of-type {\n",
       "        vertical-align: middle;\n",
       "    }\n",
       "\n",
       "    .dataframe tbody tr th {\n",
       "        vertical-align: top;\n",
       "    }\n",
       "\n",
       "    .dataframe thead th {\n",
       "        text-align: right;\n",
       "    }\n",
       "</style>\n",
       "<table border=\"1\" class=\"dataframe\">\n",
       "  <thead>\n",
       "    <tr style=\"text-align: right;\">\n",
       "      <th></th>\n",
       "      <th>Crop</th>\n",
       "      <th>Season</th>\n",
       "      <th>State</th>\n",
       "      <th>District</th>\n",
       "      <th>Area</th>\n",
       "    </tr>\n",
       "  </thead>\n",
       "  <tbody>\n",
       "    <tr>\n",
       "      <th>1603</th>\n",
       "      <td>2</td>\n",
       "      <td>1</td>\n",
       "      <td>30</td>\n",
       "      <td>670</td>\n",
       "      <td>0.013894</td>\n",
       "    </tr>\n",
       "    <tr>\n",
       "      <th>31442</th>\n",
       "      <td>50</td>\n",
       "      <td>4</td>\n",
       "      <td>16</td>\n",
       "      <td>113</td>\n",
       "      <td>0.000008</td>\n",
       "    </tr>\n",
       "    <tr>\n",
       "      <th>10422</th>\n",
       "      <td>20</td>\n",
       "      <td>2</td>\n",
       "      <td>16</td>\n",
       "      <td>57</td>\n",
       "      <td>0.005192</td>\n",
       "    </tr>\n",
       "    <tr>\n",
       "      <th>872</th>\n",
       "      <td>1</td>\n",
       "      <td>1</td>\n",
       "      <td>33</td>\n",
       "      <td>617</td>\n",
       "      <td>0.015932</td>\n",
       "    </tr>\n",
       "    <tr>\n",
       "      <th>12799</th>\n",
       "      <td>25</td>\n",
       "      <td>1</td>\n",
       "      <td>16</td>\n",
       "      <td>357</td>\n",
       "      <td>0.006997</td>\n",
       "    </tr>\n",
       "  </tbody>\n",
       "</table>\n",
       "</div>"
      ],
      "text/plain": [
       "       Crop  Season  State  District      Area\n",
       "1603      2       1     30       670  0.013894\n",
       "31442    50       4     16       113  0.000008\n",
       "10422    20       2     16        57  0.005192\n",
       "872       1       1     33       617  0.015932\n",
       "12799    25       1     16       357  0.006997"
      ]
     },
     "execution_count": 29,
     "metadata": {},
     "output_type": "execute_result"
    }
   ],
   "source": [
    "X_train.head()"
   ]
  },
  {
   "cell_type": "code",
   "execution_count": 30,
   "id": "02703ac7",
   "metadata": {},
   "outputs": [
    {
     "name": "stdout",
     "output_type": "stream",
     "text": [
      "R^2 Score: 0.6302808061703806\n",
      "Accuracy: 0.6302808061703806\n",
      "Mean Squared Error: 40.316733200148775\n",
      "Feature ranking:\n",
      "1. Area (0.2883441415602165)\n",
      "2. Crop (0.2741477881632187)\n",
      "3. State (0.2671138205276571)\n",
      "4. District (0.14088692147237808)\n",
      "5. Season (0.029507328276529566)\n"
     ]
    },
    {
     "data": {
      "image/png": "[encoded data removed]",
      "text/plain": [
       "<Figure size 1200x600 with 1 Axes>"
      ]
     },
     "metadata": {},
     "output_type": "display_data"
    },
    {
     "data": {
      "text/plain": [
       "['random_forest_model.pkl']"
      ]
     },
     "execution_count": 30,
     "metadata": {},
     "output_type": "execute_result"
    }
   ],
   "source": [
    "from sklearn.ensemble import RandomForestRegressor\n",
    "from sklearn.metrics import mean_squared_error\n",
    "from sklearn.metrics import r2_score\n",
    "\n",
    "\n",
    "\n",
    "# 4. Initialize the Random Forest Regressor\n",
    "rf_model = RandomForestRegressor(n_estimators=100, random_state=42)\n",
    "\n",
    "# 5. Fit the Model to the Training Data\n",
    "rf_model.fit(X_train, y_train)\n",
    "\n",
    "# 6. Make Predictions on the Test Data\n",
    "y_pred = rf_model.predict(X_test)\n",
    "\n",
    "# 7. Evaluate the Model\n",
    "r2 = r2_score(y_test, y_pred)\n",
    "print(f\"R^2 Score: {r2}\")\n",
    "accuracy = rf_model.score(X_test, y_test)\n",
    "print(f\"Accuracy: {accuracy}\")\n",
    "mse = mean_squared_error(y_test, y_pred)\n",
    "print(f\"Mean Squared Error: {mse}\")\n",
    "import matplotlib.pyplot as plt\n",
    "importances = rf_model.feature_importances_\n",
    "feature_names = X.columns\n",
    "indices = np.argsort(importances)[::-1]\n",
    "\n",
    "# Print the feature ranking\n",
    "print(\"Feature ranking:\")\n",
    "for f in range(X.shape[1]):\n",
    "    print(f\"{f + 1}. {feature_names[indices[f]]} ({importances[indices[f]]})\")\n",
    "# Plot the feature importances of the forest\n",
    "plt.figure(figsize=(12, 6))\n",
    "plt.title(\"Feature importances\")\n",
    "plt.bar(range(X.shape[1]), importances[indices], align=\"center\")\n",
    "plt.xticks(range(X.shape[1]), feature_names[indices], rotation=90)\n",
    "plt.xlim([-1, X.shape[1]])\n",
    "plt.show()\n",
    "# 8. Save the Model\n",
    "import joblib\n",
    "joblib.dump(rf_model, 'random_forest_model.pkl')"
   ]
  },
  {
   "cell_type": "code",
   "execution_count": 31,
   "id": "d42c6d63",
   "metadata": {},
   "outputs": [
    {
     "name": "stdout",
     "output_type": "stream",
     "text": [
      "Accuracy: 63.03%\n"
     ]
    }
   ],
   "source": [
    "accuracy_percentage = r2 * 100\n",
    "print(f\"Accuracy: {accuracy_percentage:.2f}%\")"
   ]
  },
  {
   "cell_type": "code",
   "execution_count": 33,
   "id": "1602b9f4",
   "metadata": {},
   "outputs": [
    {
     "name": "stderr",
     "output_type": "stream",
     "text": [
      "c:\\Users\\Abhi\\AppData\\Local\\Programs\\Python\\Python311\\Lib\\site-packages\\sklearn\\model_selection\\_search.py:307: UserWarning: The total space of parameters 16 is smaller than n_iter=20. Running 16 iterations. For exhaustive searches, use GridSearchCV.\n",
      "  warnings.warn(\n"
     ]
    },
    {
     "name": "stdout",
     "output_type": "stream",
     "text": [
      "Best R² Score: 0.45816144878668724\n"
     ]
    }
   ],
   "source": [
    "from sklearn.model_selection import RandomizedSearchCV\n",
    "\n",
    "param_grid = {\n",
    "    'n_estimators': [100, 200],\n",
    "    'max_depth': [10, 20],\n",
    "    'min_samples_split': [2, 5],\n",
    "    'min_samples_leaf': [ 2, 4]\n",
    "}\n",
    "\n",
    "random_search = RandomizedSearchCV(estimator=RandomForestRegressor(),\n",
    "                                   param_distributions=param_grid,\n",
    "                                   cv=5, n_iter=20, scoring='r2', n_jobs=-1)\n",
    "random_search.fit(X_train, y_train)\n",
    "print(\"Best R² Score:\", random_search.best_score_)\n",
    "best_model = random_search.best_estimator_\n"
   ]
  },
  {
   "cell_type": "code",
   "execution_count": 34,
   "id": "f6acea08",
   "metadata": {},
   "outputs": [
    {
     "data": {
      "text/plain": [
       "{'bootstrap': True,\n",
       " 'ccp_alpha': 0.0,\n",
       " 'criterion': 'squared_error',\n",
       " 'max_depth': 10,\n",
       " 'max_features': 1.0,\n",
       " 'max_leaf_nodes': None,\n",
       " 'max_samples': None,\n",
       " 'min_impurity_decrease': 0.0,\n",
       " 'min_samples_leaf': 4,\n",
       " 'min_samples_split': 2,\n",
       " 'min_weight_fraction_leaf': 0.0,\n",
       " 'n_estimators': 100,\n",
       " 'n_jobs': None,\n",
       " 'oob_score': False,\n",
       " 'random_state': None,\n",
       " 'verbose': 0,\n",
       " 'warm_start': False}"
      ]
     },
     "execution_count": 34,
     "metadata": {},
     "output_type": "execute_result"
    }
   ],
   "source": [
    "best_model.get_params()"
   ]
  },
  {
   "cell_type": "code",
   "execution_count": 41,
   "id": "4272984c",
   "metadata": {},
   "outputs": [
    {
     "name": "stdout",
     "output_type": "stream",
     "text": [
      "Accuracy: 0.8194675823159276\n"
     ]
    }
   ],
   "source": [
    "accuracy = best_model.score(X_test, y_test)\n",
    "print(f\"Accuracy: {accuracy}\")"
   ]
  },
  {
   "cell_type": "code",
   "execution_count": 42,
   "id": "67ce8d38",
   "metadata": {},
   "outputs": [
    {
     "data": {
      "text/plain": [
       "['random_forest_best_model.pkl']"
      ]
     },
     "execution_count": 42,
     "metadata": {},
     "output_type": "execute_result"
    }
   ],
   "source": [
    "joblib.dump(best_model, 'random_forest_best_model.pkl')"
   ]
  },
  {
   "cell_type": "code",
   "execution_count": 50,
   "id": "5ded3259",
   "metadata": {},
   "outputs": [
    {
     "name": "stdout",
     "output_type": "stream",
     "text": [
      "Predicted Yield: 0.85 tonnes per hectare\n"
     ]
    }
   ],
   "source": [
    "def predict_yield(crop, state, district, area, season):\n",
    "    # Load the model\n",
    "    model = joblib.load('random_forest_best_model.pkl')\n",
    "\n",
    "    # Encode the input data\n",
    "    # Check if the input labels exist in the encoder's classes\n",
    "    if state not in label_encoder_state.classes_:\n",
    "        label_encoder_state.classes_ = np.append(label_encoder_state.classes_, state)\n",
    "    if district not in label_encoder_district.classes_:\n",
    "        label_encoder_district.classes_ = np.append(label_encoder_district.classes_, district)\n",
    "    if crop not in label_encoder_state.classes_:\n",
    "        label_encoder_state.classes_ = np.append(label_encoder_state.classes_, crop)\n",
    "    if season not in label_encoder_state.classes_:\n",
    "        label_encoder_state.classes_ = np.append(label_encoder_state.classes_, season)\n",
    "\n",
    "    # Transform the input labels\n",
    "    state_encoded = label_encoder_state.transform([state])[0]\n",
    "    district_encoded = label_encoder_district.transform([district])[0]\n",
    "    crop_encoded = label_encoder_state.transform([crop])[0]\n",
    "    season_encoded = label_encoder_state.transform([season])[0]\n",
    "\n",
    "    # Create a DataFrame for the input data\n",
    "    input_data = pd.DataFrame({\n",
    "        'Crop': [crop_encoded],\n",
    "        'Season': [season_encoded],\n",
    "        'State': [state_encoded],\n",
    "        'District': [district_encoded],\n",
    "        'Area': [area]\n",
    "    })\n",
    "\n",
    "    # Reorder columns to match the training data\n",
    "    input_data = input_data[X.columns]\n",
    "\n",
    "    # Make prediction\n",
    "    predicted_yield = model.predict(input_data)\n",
    "    return predicted_yield[0]\n",
    "# Example usage \n",
    "predicted_yield = predict_yield(crop='Rice', state='Andhra Pradesh', district='KRISHNA', area=1000, season='Kharif')\n",
    "print(f\"Predicted Yield: {predicted_yield:.2f} tonnes per hectare\")"
   ]
  },
  {
   "cell_type": "code",
   "execution_count": 43,
   "id": "61e4ad46",
   "metadata": {},
   "outputs": [
    {
     "name": "stdout",
     "output_type": "stream",
     "text": [
      "R^2 Score: 0.6724505092576281\n",
      "Accuracy: 0.6724505092576281\n"
     ]
    }
   ],
   "source": [
    "from xgboost import XGBRegressor\n",
    "model = XGBRegressor()\n",
    "model.fit(X_train, y_train)\n",
    "y_pred = model.predict(X_test)\n",
    "r2 = r2_score(y_test, y_pred)\n",
    "print(f\"R^2 Score: {r2}\")"
   ]
  },
  {
   "cell_type": "code",
   "execution_count": 37,
   "id": "cb0708c1",
   "metadata": {},
   "outputs": [
    {
     "name": "stdout",
     "output_type": "stream",
     "text": [
      "Accuracy: 0.6724505092576281\n"
     ]
    }
   ],
   "source": [
    "accuracy = model.score(X_test, y_test)\n",
    "print(f\"Accuracy: {accuracy}\")"
   ]
  },
  {
   "cell_type": "code",
   "execution_count": null,
   "id": "6ddc18b3",
   "metadata": {},
   "outputs": [],
   "source": []
  }
 ],
 "metadata": {
  "kernelspec": {
   "display_name": "Python 3",
   "language": "python",
   "name": "python3"
  },
  "language_info": {
   "codemirror_mode": {
    "name": "ipython",
    "version": 3
   },
   "file_extension": ".py",
   "mimetype": "text/x-python",
   "name": "python",
   "nbconvert_exporter": "python",
   "pygments_lexer": "ipython3",
   "version": "3.11.2"
  }
 },
 "nbformat": 4,
 "nbformat_minor": 5
}
