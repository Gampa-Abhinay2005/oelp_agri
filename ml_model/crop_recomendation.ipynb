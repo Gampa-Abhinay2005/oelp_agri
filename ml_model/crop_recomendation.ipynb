{
 "cells": [
  {
   "cell_type": "code",
   "execution_count": 4,
   "id": "f1df5724",
   "metadata": {},
   "outputs": [],
   "source": [
    "import numpy as np\n",
    "import matplotlib.pyplot as plt\n",
    "import pandas as pd\n",
    "import seaborn as sns\n",
    "import os"
   ]
  },
  {
   "cell_type": "code",
   "execution_count": 5,
   "id": "c7c720f0",
   "metadata": {},
   "outputs": [],
   "source": [
    "crop_df=pd.read_csv('data_core.csv')"
   ]
  },
  {
   "cell_type": "code",
   "execution_count": 6,
   "id": "352f6782",
   "metadata": {},
   "outputs": [
    {
     "data": {
      "text/html": [
       "<div>\n",
       "<style scoped>\n",
       "    .dataframe tbody tr th:only-of-type {\n",
       "        vertical-align: middle;\n",
       "    }\n",
       "\n",
       "    .dataframe tbody tr th {\n",
       "        vertical-align: top;\n",
       "    }\n",
       "\n",
       "    .dataframe thead th {\n",
       "        text-align: right;\n",
       "    }\n",
       "</style>\n",
       "<table border=\"1\" class=\"dataframe\">\n",
       "  <thead>\n",
       "    <tr style=\"text-align: right;\">\n",
       "      <th></th>\n",
       "      <th>Temparature</th>\n",
       "      <th>Humidity</th>\n",
       "      <th>Moisture</th>\n",
       "      <th>Soil Type</th>\n",
       "      <th>Crop Type</th>\n",
       "      <th>Nitrogen</th>\n",
       "      <th>Potassium</th>\n",
       "      <th>Phosphorous</th>\n",
       "      <th>Fertilizer Name</th>\n",
       "    </tr>\n",
       "  </thead>\n",
       "  <tbody>\n",
       "    <tr>\n",
       "      <th>0</th>\n",
       "      <td>26.0</td>\n",
       "      <td>52.0</td>\n",
       "      <td>38.0</td>\n",
       "      <td>Sandy</td>\n",
       "      <td>Maize</td>\n",
       "      <td>37</td>\n",
       "      <td>0</td>\n",
       "      <td>0</td>\n",
       "      <td>Urea</td>\n",
       "    </tr>\n",
       "    <tr>\n",
       "      <th>1</th>\n",
       "      <td>29.0</td>\n",
       "      <td>52.0</td>\n",
       "      <td>45.0</td>\n",
       "      <td>Loamy</td>\n",
       "      <td>Sugarcane</td>\n",
       "      <td>12</td>\n",
       "      <td>0</td>\n",
       "      <td>36</td>\n",
       "      <td>DAP</td>\n",
       "    </tr>\n",
       "    <tr>\n",
       "      <th>2</th>\n",
       "      <td>34.0</td>\n",
       "      <td>65.0</td>\n",
       "      <td>62.0</td>\n",
       "      <td>Black</td>\n",
       "      <td>Cotton</td>\n",
       "      <td>7</td>\n",
       "      <td>9</td>\n",
       "      <td>30</td>\n",
       "      <td>14-35-14</td>\n",
       "    </tr>\n",
       "    <tr>\n",
       "      <th>3</th>\n",
       "      <td>32.0</td>\n",
       "      <td>62.0</td>\n",
       "      <td>34.0</td>\n",
       "      <td>Red</td>\n",
       "      <td>Tobacco</td>\n",
       "      <td>22</td>\n",
       "      <td>0</td>\n",
       "      <td>20</td>\n",
       "      <td>28-28</td>\n",
       "    </tr>\n",
       "    <tr>\n",
       "      <th>4</th>\n",
       "      <td>28.0</td>\n",
       "      <td>54.0</td>\n",
       "      <td>46.0</td>\n",
       "      <td>Clayey</td>\n",
       "      <td>Paddy</td>\n",
       "      <td>35</td>\n",
       "      <td>0</td>\n",
       "      <td>0</td>\n",
       "      <td>Urea</td>\n",
       "    </tr>\n",
       "  </tbody>\n",
       "</table>\n",
       "</div>"
      ],
      "text/plain": [
       "   Temparature  Humidity  Moisture Soil Type  Crop Type  Nitrogen  Potassium  \\\n",
       "0         26.0      52.0      38.0     Sandy      Maize        37          0   \n",
       "1         29.0      52.0      45.0     Loamy  Sugarcane        12          0   \n",
       "2         34.0      65.0      62.0     Black     Cotton         7          9   \n",
       "3         32.0      62.0      34.0       Red    Tobacco        22          0   \n",
       "4         28.0      54.0      46.0    Clayey      Paddy        35          0   \n",
       "\n",
       "   Phosphorous Fertilizer Name  \n",
       "0            0            Urea  \n",
       "1           36             DAP  \n",
       "2           30        14-35-14  \n",
       "3           20           28-28  \n",
       "4            0            Urea  "
      ]
     },
     "execution_count": 6,
     "metadata": {},
     "output_type": "execute_result"
    }
   ],
   "source": [
    "crop_df.head()"
   ]
  },
  {
   "cell_type": "code",
   "execution_count": 7,
   "id": "47347202",
   "metadata": {},
   "outputs": [
    {
     "data": {
      "text/plain": [
       "array(['Sandy', 'Loamy', 'Black', 'Red', 'Clayey'], dtype=object)"
      ]
     },
     "execution_count": 7,
     "metadata": {},
     "output_type": "execute_result"
    }
   ],
   "source": [
    "crop_df['Soil Type'].unique()"
   ]
  },
  {
   "cell_type": "code",
   "execution_count": 8,
   "id": "43af5614",
   "metadata": {},
   "outputs": [
    {
     "data": {
      "text/plain": [
       "Temparature        0\n",
       "Humidity           0\n",
       "Moisture           0\n",
       "Soil Type          0\n",
       "Crop Type          0\n",
       "Nitrogen           0\n",
       "Potassium          0\n",
       "Phosphorous        0\n",
       "Fertilizer Name    0\n",
       "dtype: int64"
      ]
     },
     "execution_count": 8,
     "metadata": {},
     "output_type": "execute_result"
    }
   ],
   "source": [
    "crop_df.isnull().sum()"
   ]
  },
  {
   "cell_type": "code",
   "execution_count": 9,
   "id": "fe3e2d36",
   "metadata": {},
   "outputs": [
    {
     "data": {
      "text/html": [
       "<div>\n",
       "<style scoped>\n",
       "    .dataframe tbody tr th:only-of-type {\n",
       "        vertical-align: middle;\n",
       "    }\n",
       "\n",
       "    .dataframe tbody tr th {\n",
       "        vertical-align: top;\n",
       "    }\n",
       "\n",
       "    .dataframe thead th {\n",
       "        text-align: right;\n",
       "    }\n",
       "</style>\n",
       "<table border=\"1\" class=\"dataframe\">\n",
       "  <thead>\n",
       "    <tr style=\"text-align: right;\">\n",
       "      <th></th>\n",
       "      <th>Temparature</th>\n",
       "      <th>Humidity</th>\n",
       "      <th>Moisture</th>\n",
       "      <th>Soil Type</th>\n",
       "      <th>Crop Type</th>\n",
       "      <th>Nitrogen</th>\n",
       "      <th>Potassium</th>\n",
       "      <th>Phosphorous</th>\n",
       "      <th>Fertilizer Name</th>\n",
       "    </tr>\n",
       "  </thead>\n",
       "  <tbody>\n",
       "    <tr>\n",
       "      <th>0</th>\n",
       "      <td>0.30</td>\n",
       "      <td>0.299650</td>\n",
       "      <td>0.36</td>\n",
       "      <td>4</td>\n",
       "      <td>3</td>\n",
       "      <td>0.804348</td>\n",
       "      <td>0.000000</td>\n",
       "      <td>0.000000</td>\n",
       "      <td>6</td>\n",
       "    </tr>\n",
       "    <tr>\n",
       "      <th>1</th>\n",
       "      <td>0.45</td>\n",
       "      <td>0.299650</td>\n",
       "      <td>0.50</td>\n",
       "      <td>2</td>\n",
       "      <td>8</td>\n",
       "      <td>0.260870</td>\n",
       "      <td>0.000000</td>\n",
       "      <td>0.782609</td>\n",
       "      <td>5</td>\n",
       "    </tr>\n",
       "    <tr>\n",
       "      <th>2</th>\n",
       "      <td>0.70</td>\n",
       "      <td>0.624812</td>\n",
       "      <td>0.84</td>\n",
       "      <td>0</td>\n",
       "      <td>1</td>\n",
       "      <td>0.152174</td>\n",
       "      <td>0.391304</td>\n",
       "      <td>0.652174</td>\n",
       "      <td>1</td>\n",
       "    </tr>\n",
       "    <tr>\n",
       "      <th>3</th>\n",
       "      <td>0.60</td>\n",
       "      <td>0.549775</td>\n",
       "      <td>0.28</td>\n",
       "      <td>3</td>\n",
       "      <td>9</td>\n",
       "      <td>0.478261</td>\n",
       "      <td>0.000000</td>\n",
       "      <td>0.434783</td>\n",
       "      <td>4</td>\n",
       "    </tr>\n",
       "    <tr>\n",
       "      <th>4</th>\n",
       "      <td>0.40</td>\n",
       "      <td>0.349675</td>\n",
       "      <td>0.52</td>\n",
       "      <td>1</td>\n",
       "      <td>6</td>\n",
       "      <td>0.760870</td>\n",
       "      <td>0.000000</td>\n",
       "      <td>0.000000</td>\n",
       "      <td>6</td>\n",
       "    </tr>\n",
       "  </tbody>\n",
       "</table>\n",
       "</div>"
      ],
      "text/plain": [
       "   Temparature  Humidity  Moisture  Soil Type  Crop Type  Nitrogen  Potassium  \\\n",
       "0         0.30  0.299650      0.36          4          3  0.804348   0.000000   \n",
       "1         0.45  0.299650      0.50          2          8  0.260870   0.000000   \n",
       "2         0.70  0.624812      0.84          0          1  0.152174   0.391304   \n",
       "3         0.60  0.549775      0.28          3          9  0.478261   0.000000   \n",
       "4         0.40  0.349675      0.52          1          6  0.760870   0.000000   \n",
       "\n",
       "   Phosphorous  Fertilizer Name  \n",
       "0     0.000000                6  \n",
       "1     0.782609                5  \n",
       "2     0.652174                1  \n",
       "3     0.434783                4  \n",
       "4     0.000000                6  "
      ]
     },
     "execution_count": 9,
     "metadata": {},
     "output_type": "execute_result"
    }
   ],
   "source": [
    "from sklearn.preprocessing import LabelEncoder, MinMaxScaler\n",
    "\n",
    "# Encode categorical variables and store mappings\n",
    "label_encoder = LabelEncoder()\n",
    "\n",
    "# Soil Type mapping\n",
    "crop_df['Soil Type'] = label_encoder.fit_transform(crop_df['Soil Type'])\n",
    "soil_type_mapping = {index: label for index, label in enumerate(label_encoder.classes_)}\n",
    "\n",
    "# Crop Type mapping\n",
    "crop_df['Crop Type'] = label_encoder.fit_transform(crop_df['Crop Type'])\n",
    "crop_type_mapping = {index: label for index, label in enumerate(label_encoder.classes_)}\n",
    "\n",
    "# Fertilizer Name mapping\n",
    "crop_df['Fertilizer Name'] = label_encoder.fit_transform(crop_df['Fertilizer Name'])\n",
    "fertilizer_name_mapping = {index: label for index, label in enumerate(label_encoder.classes_)}\n",
    "\n",
    "# Normalize numerical features\n",
    "scaler = MinMaxScaler()\n",
    "numerical_columns = ['Temparature', 'Humidity', 'Moisture', 'Nitrogen', 'Potassium', 'Phosphorous']\n",
    "crop_df[numerical_columns] = scaler.fit_transform(crop_df[numerical_columns])\n",
    "\n",
    "# Display the first few rows of the preprocessed data\n",
    "crop_df.head()"
   ]
  },
  {
   "cell_type": "code",
   "execution_count": 10,
   "id": "dbf05de4",
   "metadata": {},
   "outputs": [
    {
     "data": {
      "text/plain": [
       "{0: 'Black', 1: 'Clayey', 2: 'Loamy', 3: 'Red', 4: 'Sandy'}"
      ]
     },
     "execution_count": 10,
     "metadata": {},
     "output_type": "execute_result"
    }
   ],
   "source": [
    "soil_type_mapping"
   ]
  },
  {
   "cell_type": "code",
   "execution_count": 11,
   "id": "28db7bd7",
   "metadata": {},
   "outputs": [
    {
     "name": "stdout",
     "output_type": "stream",
     "text": [
      "Crop Type Prediction:\n",
      "              precision    recall  f1-score   support\n",
      "\n",
      "           0       0.07      0.08      0.08       144\n",
      "           1       0.07      0.08      0.07       141\n",
      "           2       0.09      0.10      0.10       145\n",
      "           3       0.10      0.13      0.11       147\n",
      "           4       0.10      0.09      0.10       149\n",
      "           5       0.11      0.08      0.10       154\n",
      "           6       0.03      0.03      0.03       146\n",
      "           7       0.08      0.10      0.08       125\n",
      "           8       0.08      0.06      0.07       174\n",
      "           9       0.04      0.05      0.05       130\n",
      "          10       0.07      0.06      0.07       145\n",
      "\n",
      "    accuracy                           0.08      1600\n",
      "   macro avg       0.08      0.08      0.08      1600\n",
      "weighted avg       0.08      0.08      0.08      1600\n",
      "\n",
      "Accuracy: 0.078125\n",
      "Fertilizer Name Prediction:\n",
      "              precision    recall  f1-score   support\n",
      "\n",
      "           0       0.13      0.13      0.13       241\n",
      "           1       0.17      0.17      0.17       241\n",
      "           2       0.11      0.13      0.12       215\n",
      "           3       0.17      0.14      0.15       236\n",
      "           4       0.16      0.16      0.16       219\n",
      "           5       0.19      0.18      0.18       239\n",
      "           6       0.14      0.16      0.15       209\n",
      "\n",
      "    accuracy                           0.15      1600\n",
      "   macro avg       0.15      0.15      0.15      1600\n",
      "weighted avg       0.15      0.15      0.15      1600\n",
      "\n",
      "Accuracy: 0.1525\n"
     ]
    }
   ],
   "source": [
    "from sklearn.model_selection import train_test_split\n",
    "from sklearn.ensemble import RandomForestClassifier\n",
    "from sklearn.metrics import classification_report, accuracy_score\n",
    "\n",
    "# Define features (X) and target variables (y)\n",
    "X = crop_df[numerical_columns + ['Soil Type']]\n",
    "y_crop = crop_df['Crop Type']\n",
    "y_fertilizer = crop_df['Fertilizer Name']\n",
    "\n",
    "# Split the data into training and testing sets\n",
    "X_train, X_test, y_crop_train, y_crop_test = train_test_split(X, y_crop, test_size=0.2, random_state=42)\n",
    "_, _, y_fertilizer_train, y_fertilizer_test = train_test_split(X, y_fertilizer, test_size=0.2, random_state=42)\n",
    "\n",
    "# Train a Random Forest model for Crop Type prediction\n",
    "crop_model = RandomForestClassifier(random_state=42)\n",
    "crop_model.fit(X_train, y_crop_train)\n",
    "\n",
    "# Train a Random Forest model for Fertilizer Name prediction\n",
    "fertilizer_model = RandomForestClassifier(random_state=42)\n",
    "fertilizer_model.fit(X_train, y_fertilizer_train)\n",
    "\n",
    "# Evaluate the Crop Type model\n",
    "y_crop_pred = crop_model.predict(X_test)\n",
    "print(\"Crop Type Prediction:\")\n",
    "print(classification_report(y_crop_test, y_crop_pred))\n",
    "print(\"Accuracy:\", accuracy_score(y_crop_test, y_crop_pred))\n",
    "\n",
    "# Evaluate the Fertilizer Name model\n",
    "y_fertilizer_pred = fertilizer_model.predict(X_test)\n",
    "print(\"Fertilizer Name Prediction:\")\n",
    "print(classification_report(y_fertilizer_test, y_fertilizer_pred))\n",
    "print(\"Accuracy:\", accuracy_score(y_fertilizer_test, y_fertilizer_pred))"
   ]
  },
  {
   "cell_type": "code",
   "execution_count": 31,
   "id": "22cdad8a",
   "metadata": {},
   "outputs": [
    {
     "data": {
      "text/plain": [
       "['crop_model.pkl']"
      ]
     },
     "execution_count": 31,
     "metadata": {},
     "output_type": "execute_result"
    }
   ],
   "source": [
    "# Save the model\n",
    "import joblib\n",
    "joblib.dump(crop_model, 'crop_model.pkl')"
   ]
  },
  {
   "cell_type": "code",
   "execution_count": 13,
   "id": "86d78e93",
   "metadata": {},
   "outputs": [],
   "source": [
    "X_train_final, X_val, y_crop_train_final, y_crop_val = train_test_split(X_train, y_crop_train, test_size=0.2, random_state=42)\n"
   ]
  },
  {
   "cell_type": "code",
   "execution_count": null,
   "id": "7375607c",
   "metadata": {},
   "outputs": [
    {
     "name": "stdout",
     "output_type": "stream",
     "text": [
      "Fitting 3 folds for each of 108 candidates, totalling 324 fits\n",
      "Best Parameters: {'max_depth': None, 'min_samples_leaf': 1, 'min_samples_split': 2, 'n_estimators': 200}\n",
      "Validation Set Performance:\n",
      "              precision    recall  f1-score   support\n",
      "\n",
      "           0       0.09      0.10      0.10       108\n",
      "           1       0.06      0.05      0.05       127\n",
      "           2       0.08      0.07      0.07       132\n",
      "           3       0.15      0.17      0.16       122\n",
      "           4       0.07      0.07      0.07       109\n",
      "           5       0.09      0.08      0.08       115\n",
      "           6       0.05      0.06      0.06        99\n",
      "           7       0.12      0.12      0.12       128\n",
      "           8       0.11      0.09      0.10       116\n",
      "           9       0.07      0.08      0.08       106\n",
      "          10       0.07      0.07      0.07       118\n",
      "\n",
      "    accuracy                           0.09      1280\n",
      "   macro avg       0.09      0.09      0.09      1280\n",
      "weighted avg       0.09      0.09      0.09      1280\n",
      "\n",
      "Accuracy: 0.0890625\n"
     ]
    }
   ],
   "source": [
    "from sklearn.model_selection import GridSearchCV\n",
    "\n",
    "# Split the training data into training and validation sets\n",
    "\n",
    "# Define the parameter grid for Random Forest\n",
    "param_grid = {\n",
    "    'n_estimators': [50, 100, 200],\n",
    "    'max_depth': [None, 10, 20, 30],\n",
    "    'min_samples_split': [2, 5, 10],\n",
    "    'min_samples_leaf': [1, 2, 4]\n",
    "}\n",
    "\n",
    "# Perform Grid Search with cross-validation\n",
    "grid_search = GridSearchCV(estimator=RandomForestClassifier(random_state=42),\n",
    "                           param_grid=param_grid,\n",
    "                           cv=3,\n",
    "                           scoring='accuracy',\n",
    "                           verbose=2,\n",
    "                           n_jobs=-1)\n",
    "\n",
    "grid_search.fit(X_train_final, y_crop_train_final)\n",
    "\n",
    "# Get the best parameters and train the final model\n",
    "best_params = grid_search.best_params_\n",
    "print(\"Best Parameters:\", best_params)\n",
    "\n",
    "# Train the final model with the best parameters\n",
    "final_crop_model = RandomForestClassifier(random_state=42, **best_params)\n",
    "final_crop_model.fit(X_train_final, y_crop_train_final)\n",
    "\n",
    "# Evaluate the model on the validation set\n",
    "y_crop_val_pred = final_crop_model.predict(X_val)\n",
    "print(\"Validation Set Performance:\")\n",
    "print(classification_report(y_crop_val, y_crop_val_pred))\n",
    "print(\"Accuracy:\", accuracy_score(y_crop_val, y_crop_val_pred))"
   ]
  },
  {
   "cell_type": "code",
   "execution_count": 20,
   "id": "43d5bdcd",
   "metadata": {},
   "outputs": [
    {
     "data": {
      "text/plain": [
       "['fertilizer_model.pkl']"
      ]
     },
     "execution_count": 20,
     "metadata": {},
     "output_type": "execute_result"
    }
   ],
   "source": [
    "# Save the model\n",
    "import joblib\n",
    "joblib.dump(fertilizer_model, 'fertilizer_model.pkl')"
   ]
  },
  {
   "cell_type": "code",
   "execution_count": 14,
   "id": "96bcd0fe",
   "metadata": {
    "vscode": {
     "languageId": "markdown"
    }
   },
   "outputs": [
    {
     "name": "stdout",
     "output_type": "stream",
     "text": [
      "Epoch 1/50\n"
     ]
    },
    {
     "name": "stderr",
     "output_type": "stream",
     "text": [
      "c:\\Users\\Abhi\\AppData\\Local\\Programs\\Python\\Python311\\Lib\\site-packages\\keras\\src\\layers\\core\\dense.py:87: UserWarning: Do not pass an `input_shape`/`input_dim` argument to a layer. When using Sequential models, prefer using an `Input(shape)` object as the first layer in the model instead.\n",
      "  super().__init__(activity_regularizer=activity_regularizer, **kwargs)\n"
     ]
    },
    {
     "name": "stdout",
     "output_type": "stream",
     "text": [
      "160/160 - 1s - 9ms/step - accuracy: 0.0871 - loss: 2.4134 - val_accuracy: 0.0867 - val_loss: 2.4002\n",
      "Epoch 2/50\n",
      "160/160 - 0s - 2ms/step - accuracy: 0.0941 - loss: 2.4017 - val_accuracy: 0.0953 - val_loss: 2.3977\n",
      "Epoch 3/50\n",
      "160/160 - 0s - 2ms/step - accuracy: 0.0959 - loss: 2.3981 - val_accuracy: 0.0992 - val_loss: 2.3983\n",
      "Epoch 4/50\n",
      "160/160 - 0s - 2ms/step - accuracy: 0.0998 - loss: 2.3978 - val_accuracy: 0.0898 - val_loss: 2.3987\n",
      "Epoch 5/50\n",
      "160/160 - 0s - 2ms/step - accuracy: 0.0971 - loss: 2.3981 - val_accuracy: 0.0875 - val_loss: 2.3986\n",
      "Epoch 6/50\n",
      "160/160 - 0s - 2ms/step - accuracy: 0.0971 - loss: 2.3974 - val_accuracy: 0.0883 - val_loss: 2.3994\n",
      "Epoch 7/50\n",
      "160/160 - 0s - 2ms/step - accuracy: 0.1012 - loss: 2.3964 - val_accuracy: 0.0883 - val_loss: 2.4004\n",
      "Epoch 8/50\n",
      "160/160 - 0s - 2ms/step - accuracy: 0.1082 - loss: 2.3942 - val_accuracy: 0.0867 - val_loss: 2.4001\n",
      "Epoch 9/50\n",
      "160/160 - 0s - 2ms/step - accuracy: 0.0975 - loss: 2.3949 - val_accuracy: 0.0914 - val_loss: 2.4005\n",
      "Epoch 10/50\n",
      "160/160 - 1s - 3ms/step - accuracy: 0.1063 - loss: 2.3948 - val_accuracy: 0.0930 - val_loss: 2.4007\n",
      "Epoch 11/50\n",
      "160/160 - 0s - 3ms/step - accuracy: 0.0969 - loss: 2.3935 - val_accuracy: 0.0914 - val_loss: 2.4002\n",
      "Epoch 12/50\n",
      "160/160 - 0s - 3ms/step - accuracy: 0.0994 - loss: 2.3944 - val_accuracy: 0.0797 - val_loss: 2.3990\n",
      "Epoch 13/50\n",
      "160/160 - 0s - 2ms/step - accuracy: 0.1068 - loss: 2.3924 - val_accuracy: 0.0789 - val_loss: 2.4021\n",
      "Epoch 14/50\n",
      "160/160 - 0s - 3ms/step - accuracy: 0.1031 - loss: 2.3920 - val_accuracy: 0.0820 - val_loss: 2.4005\n",
      "Epoch 15/50\n",
      "160/160 - 0s - 2ms/step - accuracy: 0.1078 - loss: 2.3900 - val_accuracy: 0.0930 - val_loss: 2.4013\n",
      "Epoch 16/50\n",
      "160/160 - 0s - 2ms/step - accuracy: 0.1123 - loss: 2.3913 - val_accuracy: 0.0859 - val_loss: 2.4012\n",
      "Epoch 17/50\n",
      "160/160 - 0s - 2ms/step - accuracy: 0.1070 - loss: 2.3899 - val_accuracy: 0.0898 - val_loss: 2.4006\n",
      "Epoch 18/50\n",
      "160/160 - 0s - 2ms/step - accuracy: 0.1129 - loss: 2.3882 - val_accuracy: 0.0898 - val_loss: 2.4014\n",
      "Epoch 19/50\n",
      "160/160 - 0s - 2ms/step - accuracy: 0.1068 - loss: 2.3906 - val_accuracy: 0.0984 - val_loss: 2.4029\n",
      "Epoch 20/50\n",
      "160/160 - 0s - 2ms/step - accuracy: 0.1135 - loss: 2.3875 - val_accuracy: 0.1000 - val_loss: 2.4021\n",
      "Epoch 21/50\n",
      "160/160 - 0s - 2ms/step - accuracy: 0.1184 - loss: 2.3888 - val_accuracy: 0.0992 - val_loss: 2.4015\n",
      "Epoch 22/50\n",
      "160/160 - 0s - 2ms/step - accuracy: 0.1064 - loss: 2.3876 - val_accuracy: 0.0859 - val_loss: 2.4017\n",
      "Epoch 23/50\n",
      "160/160 - 0s - 2ms/step - accuracy: 0.1090 - loss: 2.3862 - val_accuracy: 0.0969 - val_loss: 2.4026\n",
      "Epoch 24/50\n",
      "160/160 - 0s - 2ms/step - accuracy: 0.1109 - loss: 2.3863 - val_accuracy: 0.0867 - val_loss: 2.4036\n",
      "Epoch 25/50\n",
      "160/160 - 0s - 2ms/step - accuracy: 0.1168 - loss: 2.3858 - val_accuracy: 0.0922 - val_loss: 2.4048\n",
      "Epoch 26/50\n",
      "160/160 - 0s - 2ms/step - accuracy: 0.1090 - loss: 2.3860 - val_accuracy: 0.0961 - val_loss: 2.4023\n",
      "Epoch 27/50\n",
      "160/160 - 0s - 2ms/step - accuracy: 0.1172 - loss: 2.3835 - val_accuracy: 0.0938 - val_loss: 2.4025\n",
      "Epoch 28/50\n",
      "160/160 - 0s - 2ms/step - accuracy: 0.1121 - loss: 2.3845 - val_accuracy: 0.0961 - val_loss: 2.4024\n",
      "Epoch 29/50\n",
      "160/160 - 0s - 2ms/step - accuracy: 0.1105 - loss: 2.3814 - val_accuracy: 0.0906 - val_loss: 2.4061\n",
      "Epoch 30/50\n",
      "160/160 - 0s - 2ms/step - accuracy: 0.1227 - loss: 2.3819 - val_accuracy: 0.1039 - val_loss: 2.4076\n",
      "Epoch 31/50\n",
      "160/160 - 0s - 3ms/step - accuracy: 0.1146 - loss: 2.3824 - val_accuracy: 0.1055 - val_loss: 2.4031\n",
      "Epoch 32/50\n",
      "160/160 - 0s - 2ms/step - accuracy: 0.1148 - loss: 2.3801 - val_accuracy: 0.1016 - val_loss: 2.4083\n",
      "Epoch 33/50\n",
      "160/160 - 0s - 3ms/step - accuracy: 0.1152 - loss: 2.3822 - val_accuracy: 0.0898 - val_loss: 2.4050\n",
      "Epoch 34/50\n",
      "160/160 - 0s - 2ms/step - accuracy: 0.1172 - loss: 2.3805 - val_accuracy: 0.0898 - val_loss: 2.4059\n",
      "Epoch 35/50\n",
      "160/160 - 0s - 2ms/step - accuracy: 0.1156 - loss: 2.3809 - val_accuracy: 0.0969 - val_loss: 2.4065\n",
      "Epoch 36/50\n",
      "160/160 - 0s - 2ms/step - accuracy: 0.1195 - loss: 2.3794 - val_accuracy: 0.0898 - val_loss: 2.4065\n",
      "Epoch 37/50\n",
      "160/160 - 0s - 2ms/step - accuracy: 0.1227 - loss: 2.3794 - val_accuracy: 0.0906 - val_loss: 2.4061\n",
      "Epoch 38/50\n",
      "160/160 - 0s - 2ms/step - accuracy: 0.1160 - loss: 2.3786 - val_accuracy: 0.0906 - val_loss: 2.4050\n",
      "Epoch 39/50\n",
      "160/160 - 0s - 3ms/step - accuracy: 0.1166 - loss: 2.3762 - val_accuracy: 0.0852 - val_loss: 2.4082\n",
      "Epoch 40/50\n",
      "160/160 - 0s - 3ms/step - accuracy: 0.1213 - loss: 2.3774 - val_accuracy: 0.0867 - val_loss: 2.4058\n",
      "Epoch 41/50\n",
      "160/160 - 0s - 2ms/step - accuracy: 0.1156 - loss: 2.3770 - val_accuracy: 0.0875 - val_loss: 2.4079\n",
      "Epoch 42/50\n",
      "160/160 - 0s - 2ms/step - accuracy: 0.1193 - loss: 2.3761 - val_accuracy: 0.0992 - val_loss: 2.4080\n",
      "Epoch 43/50\n",
      "160/160 - 0s - 2ms/step - accuracy: 0.1234 - loss: 2.3736 - val_accuracy: 0.0992 - val_loss: 2.4126\n",
      "Epoch 44/50\n",
      "160/160 - 0s - 2ms/step - accuracy: 0.1191 - loss: 2.3774 - val_accuracy: 0.0969 - val_loss: 2.4085\n",
      "Epoch 45/50\n",
      "160/160 - 0s - 2ms/step - accuracy: 0.1187 - loss: 2.3728 - val_accuracy: 0.0945 - val_loss: 2.4079\n",
      "Epoch 46/50\n",
      "160/160 - 1s - 3ms/step - accuracy: 0.1195 - loss: 2.3718 - val_accuracy: 0.0906 - val_loss: 2.4121\n",
      "Epoch 47/50\n",
      "160/160 - 0s - 2ms/step - accuracy: 0.1268 - loss: 2.3731 - val_accuracy: 0.0945 - val_loss: 2.4098\n",
      "Epoch 48/50\n",
      "160/160 - 0s - 2ms/step - accuracy: 0.1156 - loss: 2.3741 - val_accuracy: 0.0938 - val_loss: 2.4103\n",
      "Epoch 49/50\n",
      "160/160 - 0s - 2ms/step - accuracy: 0.1223 - loss: 2.3722 - val_accuracy: 0.0867 - val_loss: 2.4090\n",
      "Epoch 50/50\n",
      "160/160 - 0s - 2ms/step - accuracy: 0.1209 - loss: 2.3728 - val_accuracy: 0.0867 - val_loss: 2.4079\n",
      "Validation Accuracy: 0.0867\n"
     ]
    }
   ],
   "source": [
    "\n",
    "from tensorflow.keras.models import Sequential\n",
    "from tensorflow.keras.layers import Dense, Dropout\n",
    "from tensorflow.keras.optimizers import Adam\n",
    "from tensorflow.keras.utils import to_categorical\n",
    "\n",
    "# Convert target variable to categorical (one-hot encoding)\n",
    "y_crop_train_final_categorical = to_categorical(y_crop_train_final)\n",
    "y_crop_val_categorical = to_categorical(y_crop_val)\n",
    "\n",
    "# Define the neural network model\n",
    "model = Sequential([\n",
    "    Dense(128, input_dim=X_train_final.shape[1], activation='relu'),\n",
    "    Dropout(0.3),\n",
    "    Dense(64, activation='relu'),\n",
    "    Dropout(0.3),\n",
    "    Dense(y_crop_train_final_categorical.shape[1], activation='softmax')\n",
    "])\n",
    "\n",
    "# Compile the model\n",
    "model.compile(optimizer=Adam(learning_rate=0.001),\n",
    "              loss='categorical_crossentropy',\n",
    "              metrics=['accuracy'])\n",
    "\n",
    "# Train the model\n",
    "history = model.fit(X_train_final, y_crop_train_final_categorical,\n",
    "                    validation_data=(X_val, y_crop_val_categorical),\n",
    "                    epochs=50,\n",
    "                    batch_size=32,\n",
    "                    verbose=2)\n",
    "\n",
    "# Evaluate the model on the validation set\n",
    "val_loss, val_accuracy = model.evaluate(X_val, y_crop_val_categorical, verbose=0)\n",
    "print(f\"Validation Accuracy: {val_accuracy:.4f}\")\n"
   ]
  },
  {
   "cell_type": "code",
   "execution_count": 22,
   "id": "b0bce7cb",
   "metadata": {},
   "outputs": [
    {
     "name": "stdout",
     "output_type": "stream",
     "text": [
      "Fitting 3 folds for each of 50 candidates, totalling 150 fits\n"
     ]
    },
    {
     "name": "stderr",
     "output_type": "stream",
     "text": [
      "c:\\Users\\Abhi\\AppData\\Local\\Programs\\Python\\Python311\\Lib\\site-packages\\xgboost\\core.py:158: UserWarning: [16:57:43] WARNING: C:\\buildkite-agent\\builds\\buildkite-windows-cpu-autoscaling-group-i-0015a694724fa8361-1\\xgboost\\xgboost-ci-windows\\src\\learner.cc:740: \n",
      "Parameters: { \"use_label_encoder\" } are not used.\n",
      "\n",
      "  warnings.warn(smsg, UserWarning)\n"
     ]
    },
    {
     "name": "stdout",
     "output_type": "stream",
     "text": [
      "Best Parameters: {'subsample': 0.8, 'n_estimators': 100, 'max_depth': 7, 'learning_rate': 0.1, 'colsample_bytree': 1.0}\n"
     ]
    },
    {
     "name": "stderr",
     "output_type": "stream",
     "text": [
      "c:\\Users\\Abhi\\AppData\\Local\\Programs\\Python\\Python311\\Lib\\site-packages\\xgboost\\core.py:158: UserWarning: [16:57:44] WARNING: C:\\buildkite-agent\\builds\\buildkite-windows-cpu-autoscaling-group-i-0015a694724fa8361-1\\xgboost\\xgboost-ci-windows\\src\\learner.cc:740: \n",
      "Parameters: { \"use_label_encoder\" } are not used.\n",
      "\n",
      "  warnings.warn(smsg, UserWarning)\n"
     ]
    },
    {
     "name": "stdout",
     "output_type": "stream",
     "text": [
      "XGBoost Model Performance:\n",
      "              precision    recall  f1-score   support\n",
      "\n",
      "           0       0.08      0.09      0.09       144\n",
      "           1       0.11      0.11      0.11       141\n",
      "           2       0.08      0.08      0.08       145\n",
      "           3       0.11      0.13      0.12       147\n",
      "           4       0.10      0.11      0.10       149\n",
      "           5       0.14      0.12      0.13       154\n",
      "           6       0.06      0.05      0.05       146\n",
      "           7       0.06      0.07      0.07       125\n",
      "           8       0.07      0.06      0.07       174\n",
      "           9       0.10      0.10      0.10       130\n",
      "          10       0.08      0.08      0.08       145\n",
      "\n",
      "    accuracy                           0.09      1600\n",
      "   macro avg       0.09      0.09      0.09      1600\n",
      "weighted avg       0.09      0.09      0.09      1600\n",
      "\n",
      "Accuracy: 0.09125\n"
     ]
    }
   ],
   "source": [
    "from xgboost import XGBClassifier\n",
    "from sklearn.model_selection import RandomizedSearchCV\n",
    "\n",
    "# Define the parameter grid for XGBoost\n",
    "param_dist = {\n",
    "    'n_estimators': [100, 200, 300],\n",
    "    'learning_rate': [0.01, 0.05, 0.1, 0.2],\n",
    "    'max_depth': [3, 5, 7, 10],\n",
    "    'subsample': [0.6, 0.8, 1.0],\n",
    "    'colsample_bytree': [0.6, 0.8, 1.0]\n",
    "}\n",
    "\n",
    "# Initialize the XGBoost classifier\n",
    "xgb_model = XGBClassifier(random_state=42, use_label_encoder=False, eval_metric='mlogloss')\n",
    "\n",
    "# Perform Randomized Search with cross-validation\n",
    "random_search = RandomizedSearchCV(estimator=xgb_model,\n",
    "                                   param_distributions=param_dist,\n",
    "                                   n_iter=50,\n",
    "                                   scoring='accuracy',\n",
    "                                   cv=3,\n",
    "                                   verbose=2,\n",
    "                                   n_jobs=-1,\n",
    "                                   random_state=42)\n",
    "\n",
    "random_search.fit(X_train, y_crop_train)\n",
    "\n",
    "# Get the best parameters and train the final model\n",
    "best_xgb_params = random_search.best_params_\n",
    "print(\"Best Parameters:\", best_xgb_params)\n",
    "\n",
    "final_xgb_model = XGBClassifier(random_state=42, use_label_encoder=False, eval_metric='mlogloss', **best_xgb_params)\n",
    "final_xgb_model.fit(X_train, y_crop_train)\n",
    "\n",
    "# Evaluate the model on the test set\n",
    "y_crop_pred_xgb = final_xgb_model.predict(X_test)\n",
    "print(\"XGBoost Model Performance:\")\n",
    "print(classification_report(y_crop_test, y_crop_pred_xgb))\n",
    "print(\"Accuracy:\", accuracy_score(y_crop_test, y_crop_pred_xgb))\n"
   ]
  },
  {
   "cell_type": "code",
   "execution_count": 23,
   "id": "e8a9b772",
   "metadata": {},
   "outputs": [
    {
     "name": "stdout",
     "output_type": "stream",
     "text": [
      "Gradient Boosting Model Performance:\n",
      "              precision    recall  f1-score   support\n",
      "\n",
      "           0       0.07      0.08      0.08       144\n",
      "           1       0.07      0.06      0.06       141\n",
      "           2       0.09      0.10      0.09       145\n",
      "           3       0.11      0.14      0.13       147\n",
      "           4       0.12      0.11      0.11       149\n",
      "           5       0.10      0.08      0.09       154\n",
      "           6       0.06      0.05      0.06       146\n",
      "           7       0.05      0.06      0.05       125\n",
      "           8       0.07      0.06      0.07       174\n",
      "           9       0.12      0.10      0.11       130\n",
      "          10       0.04      0.03      0.04       145\n",
      "\n",
      "    accuracy                           0.08      1600\n",
      "   macro avg       0.08      0.08      0.08      1600\n",
      "weighted avg       0.08      0.08      0.08      1600\n",
      "\n",
      "Accuracy: 0.080625\n"
     ]
    }
   ],
   "source": [
    "from sklearn.ensemble import GradientBoostingClassifier\n",
    "from sklearn.metrics import classification_report, accuracy_score\n",
    "\n",
    "# Initialize the Gradient Boosting Classifier\n",
    "gb_model = GradientBoostingClassifier(random_state=42)\n",
    "\n",
    "# Train the Gradient Boosting model on the training data\n",
    "gb_model.fit(X_train, y_crop_train)\n",
    "\n",
    "# Evaluate the Gradient Boosting model on the test set\n",
    "y_crop_pred_gb = gb_model.predict(X_test)\n",
    "print(\"Gradient Boosting Model Performance:\")\n",
    "print(classification_report(y_crop_test, y_crop_pred_gb))\n",
    "print(\"Accuracy:\", accuracy_score(y_crop_test, y_crop_pred_gb))"
   ]
  },
  {
   "cell_type": "code",
   "execution_count": 29,
   "id": "cb6f747e",
   "metadata": {},
   "outputs": [
    {
     "name": "stderr",
     "output_type": "stream",
     "text": [
      "c:\\Users\\Abhi\\AppData\\Local\\Programs\\Python\\Python311\\Lib\\site-packages\\xgboost\\core.py:158: UserWarning: [17:09:22] WARNING: C:\\buildkite-agent\\builds\\buildkite-windows-cpu-autoscaling-group-i-0015a694724fa8361-1\\xgboost\\xgboost-ci-windows\\src\\learner.cc:740: \n",
      "Parameters: { \"use_label_encoder\" } are not used.\n",
      "\n",
      "  warnings.warn(smsg, UserWarning)\n"
     ]
    },
    {
     "name": "stdout",
     "output_type": "stream",
     "text": [
      "Updated Ensemble Model Performance:\n",
      "              precision    recall  f1-score   support\n",
      "\n",
      "           0       0.07      0.08      0.08       144\n",
      "           1       0.07      0.06      0.07       141\n",
      "           2       0.09      0.10      0.09       145\n",
      "           3       0.12      0.14      0.13       147\n",
      "           4       0.11      0.11      0.11       149\n",
      "           5       0.13      0.12      0.12       154\n",
      "           6       0.06      0.05      0.05       146\n",
      "           7       0.04      0.05      0.04       125\n",
      "           8       0.08      0.07      0.08       174\n",
      "           9       0.09      0.09      0.09       130\n",
      "          10       0.07      0.06      0.06       145\n",
      "\n",
      "    accuracy                           0.09      1600\n",
      "   macro avg       0.08      0.09      0.08      1600\n",
      "weighted avg       0.09      0.09      0.09      1600\n",
      "\n",
      "Accuracy: 0.085625\n"
     ]
    }
   ],
   "source": [
    "from sklearn.ensemble import VotingClassifier\n",
    "\n",
    "ensemble_model = VotingClassifier(\n",
    "    estimators=[\n",
    "        ('random_forest', final_crop_model),\n",
    "        ('xgboost', final_xgb_model),\n",
    "        ('gradient_boosting', gb_model)\n",
    "    ],\n",
    "    voting='soft'  # Use 'soft' voting for probabilities\n",
    ")\n",
    "\n",
    "# Train the updated ensemble model on the training data\n",
    "ensemble_model.fit(X_train, y_crop_train)\n",
    "\n",
    "# Evaluate the updated ensemble model on the test set\n",
    "y_ensemble_pred = ensemble_model.predict(X_test)\n",
    "print(\"Updated Ensemble Model Performance:\")\n",
    "print(classification_report(y_crop_test, y_ensemble_pred))\n",
    "print(\"Accuracy:\", accuracy_score(y_crop_test, y_ensemble_pred))"
   ]
  },
  {
   "cell_type": "code",
   "execution_count": 30,
   "id": "bfc9fe54",
   "metadata": {},
   "outputs": [
    {
     "data": {
      "text/plain": [
       "['ensemble_model.pkl']"
      ]
     },
     "execution_count": 30,
     "metadata": {},
     "output_type": "execute_result"
    }
   ],
   "source": [
    "import joblib\n",
    "# Save the models and mappings to files\n",
    "joblib.dump(ensemble_model, 'ensemble_model.pkl')"
   ]
  },
  {
   "cell_type": "code",
   "execution_count": 28,
   "id": "8907650f",
   "metadata": {},
   "outputs": [
    {
     "data": {
      "text/plain": [
       "['scaler.pkl']"
      ]
     },
     "execution_count": 28,
     "metadata": {},
     "output_type": "execute_result"
    }
   ],
   "source": [
    "joblib.dump(scaler, 'scaler.pkl')"
   ]
  },
  {
   "cell_type": "code",
   "execution_count": 25,
   "id": "8e635402",
   "metadata": {},
   "outputs": [],
   "source": [
    "import joblib\n",
    "\n",
    "def predict_fertilizer_and_crop(temp, potassium, phosphorus, nitrogen, humidity, moisture, soil_type):\n",
    "    \"\"\"\n",
    "    Predicts the fertilizer and crop type based on input parameters.\n",
    "\n",
    "    Parameters:\n",
    "        temp (float): Temperature value (raw, not normalized).\n",
    "        potassium (float): Potassium value (raw, not normalized).\n",
    "        phosphorus (float): Phosphorus value (raw, not normalized).\n",
    "        nitrogen (float): Nitrogen value (raw, not normalized).\n",
    "        humidity (float): Humidity value (raw, not normalized).\n",
    "        moisture (float): Moisture value (raw, not normalized).\n",
    "        soil_type (int): Soil type value (numeric).\n",
    "\n",
    "    Returns:\n",
    "        dict: A dictionary containing the predicted crop name and fertilizer name.\n",
    "    \"\"\"\n",
    "    # Load the ensemble model from the file\n",
    "    ensemble_model = joblib.load('ensemble_model.pkl')\n",
    "\n",
    "    # Convert soil type from string to numeric using the label encoder\n",
    "    soil_type_numeric = soil_type\n",
    "\n",
    "    # Create a single input sample\n",
    "    input_data = pd.DataFrame([{\n",
    "        'Temparature': temp,\n",
    "        'Humidity': humidity,\n",
    "        'Moisture': moisture,\n",
    "        'Nitrogen': nitrogen,\n",
    "        'Potassium': potassium,\n",
    "        'Phosphorous': phosphorus,\n",
    "        'Soil Type': soil_type_numeric\n",
    "    }])\n",
    "\n",
    "    # Normalize the numerical features using the scaler\n",
    "    input_data[numerical_columns] = scaler.transform(input_data[numerical_columns])\n",
    "\n",
    "    # Predict crop type using the ensemble model\n",
    "    crop_prediction = ensemble_model.predict(input_data)[0]\n",
    "    crop_name = crop_type_mapping[crop_prediction]\n",
    "\n",
    "    # Predict fertilizer name\n",
    "    fertilizer_prediction = fertilizer_model.predict(input_data)[0]\n",
    "    fertilizer_name = fertilizer_name_mapping[fertilizer_prediction]\n",
    "\n",
    "    return {\n",
    "        'Predicted Crop Name': crop_name,\n",
    "        'Predicted Fertilizer Name': fertilizer_name\n",
    "    }\n"
   ]
  },
  {
   "cell_type": "code",
   "execution_count": 26,
   "id": "9e6b5477",
   "metadata": {},
   "outputs": [
    {
     "name": "stdout",
     "output_type": "stream",
     "text": [
      "{'Predicted Crop Name': 'Barley', 'Predicted Fertilizer Name': '17-17-17'}\n"
     ]
    }
   ],
   "source": [
    "# Example usage\n",
    "temp = 30.0  # Example temperature value (raw, not normalized)\n",
    "potassium = 200.0  # Example potassium value (raw, not normalized) \n",
    "phosphorus = 50.0  # Example phosphorus value (raw, not normalized)\n",
    "nitrogen = 100.0  # Example nitrogen value (raw, not normalized)\n",
    "humidity = 70.0  # Example humidity value (raw, not normalized)\n",
    "moisture = 30.0  # Example moisture value (raw, not normalized)\n",
    "soil_type = 1  # Example soil type value (string)\n",
    "# Call the prediction function\n",
    "predictions = predict_fertilizer_and_crop(temp, potassium, phosphorus, nitrogen, humidity, moisture, soil_type)\n",
    "print(predictions)"
   ]
  },
  {
   "cell_type": "code",
   "execution_count": null,
   "id": "d0621983",
   "metadata": {},
   "outputs": [],
   "source": []
  }
 ],
 "metadata": {
  "kernelspec": {
   "display_name": "Python 3",
   "language": "python",
   "name": "python3"
  },
  "language_info": {
   "codemirror_mode": {
    "name": "ipython",
    "version": 3
   },
   "file_extension": ".py",
   "mimetype": "text/x-python",
   "name": "python",
   "nbconvert_exporter": "python",
   "pygments_lexer": "ipython3",
   "version": "3.11.2"
  }
 },
 "nbformat": 4,
 "nbformat_minor": 5
}
